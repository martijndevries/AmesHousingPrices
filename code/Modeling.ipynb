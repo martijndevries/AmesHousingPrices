{
 "cells": [
  {
   "cell_type": "markdown",
   "id": "1f864de7-3ffe-4d12-a590-f604328f2819",
   "metadata": {},
   "source": [
    "<b> Modeling </b> notebook (number 3) for <b>Project 2</b> of General Assembly DSIR-0320 <br>\n",
    "by Martijn de Vries </br>\n",
    "martijndevries91@gmail.com"
   ]
  },
  {
   "cell_type": "code",
   "execution_count": 2,
   "id": "cf41fc79-9bb2-4cb3-a1d9-5879be043bae",
   "metadata": {},
   "outputs": [],
   "source": [
    "import pandas as pd\n",
    "import numpy as np\n",
    "import seaborn as sns\n",
    "from matplotlib import pyplot as plt\n",
    "\n",
    "#sklearn imports\n",
    "from sklearn.linear_model import LinearRegression\n",
    "from sklearn.model_selection import train_test_split,cross_val_score\n",
    "from sklearn.metrics import mean_squared_error,mean_absolute_error"
   ]
  },
  {
   "cell_type": "code",
   "execution_count": null,
   "id": "ae6f1cc8-4922-4089-af7a-40febd9f9333",
   "metadata": {},
   "outputs": [],
   "source": []
  }
 ],
 "metadata": {
  "kernelspec": {
   "display_name": "Python 3",
   "language": "python",
   "name": "python3"
  },
  "language_info": {
   "codemirror_mode": {
    "name": "ipython",
    "version": 3
   },
   "file_extension": ".py",
   "mimetype": "text/x-python",
   "name": "python",
   "nbconvert_exporter": "python",
   "pygments_lexer": "ipython3",
   "version": "3.8.8"
  }
 },
 "nbformat": 4,
 "nbformat_minor": 5
}
