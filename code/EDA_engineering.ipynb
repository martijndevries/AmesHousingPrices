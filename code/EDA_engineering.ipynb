{
 "cells": [
  {
   "cell_type": "markdown",
   "id": "a9ccdf2a-9b54-402d-a3a9-963eed1cf7b3",
   "metadata": {},
   "source": [
    "<b> EDA and feature engineering notebook for <b>Project 2</b> of General Assembly DSIR-0320 <br>\n",
    "by Martijn de Vries </br>\n",
    "martijndevries91@gmail.com"
   ]
  }
 ],
 "metadata": {
  "kernelspec": {
   "display_name": "Python 3",
   "language": "python",
   "name": "python3"
  },
  "language_info": {
   "codemirror_mode": {
    "name": "ipython",
    "version": 3
   },
   "file_extension": ".py",
   "mimetype": "text/x-python",
   "name": "python",
   "nbconvert_exporter": "python",
   "pygments_lexer": "ipython3",
   "version": "3.8.8"
  }
 },
 "nbformat": 4,
 "nbformat_minor": 5
}
