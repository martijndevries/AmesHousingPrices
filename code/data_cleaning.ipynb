{
 "cells": [
  {
   "cell_type": "markdown",
   "id": "17f0cf78-a135-4385-8355-f2282b7c5f4a",
   "metadata": {},
   "source": [
    "## <b>EDA and Data cleaning</b> notebook (Nr 1) for <b>Project 2</b> of General Assembly DSIR-0320 \n",
    "by Martijn de Vries </br>\n",
    "martijndevries91@gmail.com"
   ]
  },
  {
   "cell_type": "markdown",
   "id": "42d1569b-f3fc-4a93-947e-6c3c0397034a",
   "metadata": {},
   "source": [
    "## Problem Statement\n",
    "\n",
    "A real estate company in Ames, Iowa is looking for a new and improved way to evaluate the market value of a house. Using the Ames data set as training data, I will build a predictive linear regression model to predict the sale price of a house.\n",
    "\n",
    "To gauge the model performance, I will compare my results against a 'benchmark model', which is a simple OLS regression of total living area versus sale price. How much can a more complex model improve over this simple basic model? I will try out different models with different numbers of features using different linear regression techniques, and ultimately identify which model does the best job at predicting the market value of the house. o evaluate and compare models, I will use the r2-score, as well as the root mean squared error (RMSE). "
   ]
  },
  {
   "cell_type": "markdown",
   "id": "055169fc-529e-43b9-bc38-2df11d9d145b",
   "metadata": {},
   "source": [
    "## In this notebook\n",
    "\n",
    "I will clean the data and do some basic EDA. Because there are quite a lot of missing values in both the training and testing dataset, I will make some assumptions and imputations. The cleaned data are saved as train_cleaned.csv and test_cleaned.csv\n",
    "\n",
    "The function clean_ames at the bottom of this notebook summarizes all the steps taken in the data cleaning process.\n",
    "\n",
    "Two important resources - <br>\n",
    "The original paper (De Cock 2011): https://jse.amstat.org/v19n3/decock.pdf <br>\n",
    "The data description/dictionary: https://jse.amstat.org/v19n3/decock/DataDocumentation.txt"
   ]
  },
  {
   "cell_type": "code",
   "execution_count": 44,
   "id": "2ac4ddc9-2570-4887-bd45-07114e7997d7",
   "metadata": {},
   "outputs": [],
   "source": [
    "#imports\n",
    "import pandas as pd\n",
    "import numpy as np\n",
    "import seaborn as sns\n",
    "from matplotlib import pyplot as plt"
   ]
  },
  {
   "cell_type": "code",
   "execution_count": 45,
   "id": "6e1e0277-8421-405e-a58a-ad5c263584da",
   "metadata": {},
   "outputs": [
    {
     "name": "stdout",
     "output_type": "stream",
     "text": [
      "(2051, 81)\n"
     ]
    },
    {
     "data": {
      "text/html": [
       "<div>\n",
       "<style scoped>\n",
       "    .dataframe tbody tr th:only-of-type {\n",
       "        vertical-align: middle;\n",
       "    }\n",
       "\n",
       "    .dataframe tbody tr th {\n",
       "        vertical-align: top;\n",
       "    }\n",
       "\n",
       "    .dataframe thead th {\n",
       "        text-align: right;\n",
       "    }\n",
       "</style>\n",
       "<table border=\"1\" class=\"dataframe\">\n",
       "  <thead>\n",
       "    <tr style=\"text-align: right;\">\n",
       "      <th></th>\n",
       "      <th>Id</th>\n",
       "      <th>PID</th>\n",
       "      <th>MS SubClass</th>\n",
       "      <th>MS Zoning</th>\n",
       "      <th>Lot Frontage</th>\n",
       "      <th>Lot Area</th>\n",
       "      <th>Street</th>\n",
       "      <th>Alley</th>\n",
       "      <th>Lot Shape</th>\n",
       "      <th>Land Contour</th>\n",
       "      <th>...</th>\n",
       "      <th>Screen Porch</th>\n",
       "      <th>Pool Area</th>\n",
       "      <th>Pool QC</th>\n",
       "      <th>Fence</th>\n",
       "      <th>Misc Feature</th>\n",
       "      <th>Misc Val</th>\n",
       "      <th>Mo Sold</th>\n",
       "      <th>Yr Sold</th>\n",
       "      <th>Sale Type</th>\n",
       "      <th>SalePrice</th>\n",
       "    </tr>\n",
       "  </thead>\n",
       "  <tbody>\n",
       "    <tr>\n",
       "      <th>0</th>\n",
       "      <td>109</td>\n",
       "      <td>533352170</td>\n",
       "      <td>60</td>\n",
       "      <td>RL</td>\n",
       "      <td>NaN</td>\n",
       "      <td>13517</td>\n",
       "      <td>Pave</td>\n",
       "      <td>NaN</td>\n",
       "      <td>IR1</td>\n",
       "      <td>Lvl</td>\n",
       "      <td>...</td>\n",
       "      <td>0</td>\n",
       "      <td>0</td>\n",
       "      <td>NaN</td>\n",
       "      <td>NaN</td>\n",
       "      <td>NaN</td>\n",
       "      <td>0</td>\n",
       "      <td>3</td>\n",
       "      <td>2010</td>\n",
       "      <td>WD</td>\n",
       "      <td>130500</td>\n",
       "    </tr>\n",
       "    <tr>\n",
       "      <th>1</th>\n",
       "      <td>544</td>\n",
       "      <td>531379050</td>\n",
       "      <td>60</td>\n",
       "      <td>RL</td>\n",
       "      <td>43.0</td>\n",
       "      <td>11492</td>\n",
       "      <td>Pave</td>\n",
       "      <td>NaN</td>\n",
       "      <td>IR1</td>\n",
       "      <td>Lvl</td>\n",
       "      <td>...</td>\n",
       "      <td>0</td>\n",
       "      <td>0</td>\n",
       "      <td>NaN</td>\n",
       "      <td>NaN</td>\n",
       "      <td>NaN</td>\n",
       "      <td>0</td>\n",
       "      <td>4</td>\n",
       "      <td>2009</td>\n",
       "      <td>WD</td>\n",
       "      <td>220000</td>\n",
       "    </tr>\n",
       "    <tr>\n",
       "      <th>2</th>\n",
       "      <td>153</td>\n",
       "      <td>535304180</td>\n",
       "      <td>20</td>\n",
       "      <td>RL</td>\n",
       "      <td>68.0</td>\n",
       "      <td>7922</td>\n",
       "      <td>Pave</td>\n",
       "      <td>NaN</td>\n",
       "      <td>Reg</td>\n",
       "      <td>Lvl</td>\n",
       "      <td>...</td>\n",
       "      <td>0</td>\n",
       "      <td>0</td>\n",
       "      <td>NaN</td>\n",
       "      <td>NaN</td>\n",
       "      <td>NaN</td>\n",
       "      <td>0</td>\n",
       "      <td>1</td>\n",
       "      <td>2010</td>\n",
       "      <td>WD</td>\n",
       "      <td>109000</td>\n",
       "    </tr>\n",
       "    <tr>\n",
       "      <th>3</th>\n",
       "      <td>318</td>\n",
       "      <td>916386060</td>\n",
       "      <td>60</td>\n",
       "      <td>RL</td>\n",
       "      <td>73.0</td>\n",
       "      <td>9802</td>\n",
       "      <td>Pave</td>\n",
       "      <td>NaN</td>\n",
       "      <td>Reg</td>\n",
       "      <td>Lvl</td>\n",
       "      <td>...</td>\n",
       "      <td>0</td>\n",
       "      <td>0</td>\n",
       "      <td>NaN</td>\n",
       "      <td>NaN</td>\n",
       "      <td>NaN</td>\n",
       "      <td>0</td>\n",
       "      <td>4</td>\n",
       "      <td>2010</td>\n",
       "      <td>WD</td>\n",
       "      <td>174000</td>\n",
       "    </tr>\n",
       "    <tr>\n",
       "      <th>4</th>\n",
       "      <td>255</td>\n",
       "      <td>906425045</td>\n",
       "      <td>50</td>\n",
       "      <td>RL</td>\n",
       "      <td>82.0</td>\n",
       "      <td>14235</td>\n",
       "      <td>Pave</td>\n",
       "      <td>NaN</td>\n",
       "      <td>IR1</td>\n",
       "      <td>Lvl</td>\n",
       "      <td>...</td>\n",
       "      <td>0</td>\n",
       "      <td>0</td>\n",
       "      <td>NaN</td>\n",
       "      <td>NaN</td>\n",
       "      <td>NaN</td>\n",
       "      <td>0</td>\n",
       "      <td>3</td>\n",
       "      <td>2010</td>\n",
       "      <td>WD</td>\n",
       "      <td>138500</td>\n",
       "    </tr>\n",
       "  </tbody>\n",
       "</table>\n",
       "<p>5 rows × 81 columns</p>\n",
       "</div>"
      ],
      "text/plain": [
       "    Id        PID  MS SubClass MS Zoning  Lot Frontage  Lot Area Street Alley  \\\n",
       "0  109  533352170           60        RL           NaN     13517   Pave   NaN   \n",
       "1  544  531379050           60        RL          43.0     11492   Pave   NaN   \n",
       "2  153  535304180           20        RL          68.0      7922   Pave   NaN   \n",
       "3  318  916386060           60        RL          73.0      9802   Pave   NaN   \n",
       "4  255  906425045           50        RL          82.0     14235   Pave   NaN   \n",
       "\n",
       "  Lot Shape Land Contour  ... Screen Porch Pool Area Pool QC Fence  \\\n",
       "0       IR1          Lvl  ...            0         0     NaN   NaN   \n",
       "1       IR1          Lvl  ...            0         0     NaN   NaN   \n",
       "2       Reg          Lvl  ...            0         0     NaN   NaN   \n",
       "3       Reg          Lvl  ...            0         0     NaN   NaN   \n",
       "4       IR1          Lvl  ...            0         0     NaN   NaN   \n",
       "\n",
       "  Misc Feature Misc Val Mo Sold Yr Sold  Sale Type  SalePrice  \n",
       "0          NaN        0       3    2010        WD      130500  \n",
       "1          NaN        0       4    2009        WD      220000  \n",
       "2          NaN        0       1    2010        WD      109000  \n",
       "3          NaN        0       4    2010        WD      174000  \n",
       "4          NaN        0       3    2010        WD      138500  \n",
       "\n",
       "[5 rows x 81 columns]"
      ]
     },
     "execution_count": 45,
     "metadata": {},
     "output_type": "execute_result"
    }
   ],
   "source": [
    "#let's have some basic info about what the data looks like\n",
    "ames_df = pd.read_csv('../datasets/train.csv')\n",
    "print(ames_df.shape)\n",
    "ames_df.head()"
   ]
  },
  {
   "cell_type": "code",
   "execution_count": 46,
   "id": "5e33b9ed-c07c-4d82-9add-47bfe863a62b",
   "metadata": {},
   "outputs": [
    {
     "name": "stdout",
     "output_type": "stream",
     "text": [
      "(878, 80)\n"
     ]
    }
   ],
   "source": [
    "#what about the test data?\n",
    "ames_test = pd.read_csv('../datasets/test.csv')\n",
    "print(ames_test.shape)"
   ]
  },
  {
   "cell_type": "markdown",
   "id": "42dda22d-a387-48f0-bd5e-c8382c6b7545",
   "metadata": {},
   "source": [
    "That's a lot of columns! What kind of variables are they?"
   ]
  },
  {
   "cell_type": "code",
   "execution_count": 47,
   "id": "e4a983c6-cc1b-4ad1-971f-36093f6f5f21",
   "metadata": {},
   "outputs": [
    {
     "name": "stdout",
     "output_type": "stream",
     "text": [
      "object     42\n",
      "int64      28\n",
      "float64    11\n",
      "dtype: int64\n"
     ]
    }
   ],
   "source": [
    "print(ames_df.dtypes.value_counts())"
   ]
  },
  {
   "cell_type": "markdown",
   "id": "5587a89e-eba2-4400-a20b-275835a2587f",
   "metadata": {},
   "source": [
    "I don't really care about PID, so let's get rid of that one. Fewer columns can only be a good thing"
   ]
  },
  {
   "cell_type": "code",
   "execution_count": 48,
   "id": "7029b36e-5c70-4740-805f-9773e254c994",
   "metadata": {},
   "outputs": [],
   "source": [
    "ames_df = ames_df.drop(columns=['PID'])"
   ]
  },
  {
   "cell_type": "markdown",
   "id": "72c175dd-6cbb-41b1-97c6-5fe978abb858",
   "metadata": {},
   "source": [
    "Most of those 'object' columns are probably categorical variables, which can be either nominal (no natural predetermined rank, just categories) and ordinal (where the categories have some type of order).\n",
    "\n",
    "Let's print out some descriptive stats of the numerical columns"
   ]
  },
  {
   "cell_type": "code",
   "execution_count": 49,
   "id": "2364189e-ed71-49fc-b17d-bc4026bb6289",
   "metadata": {},
   "outputs": [
    {
     "data": {
      "text/html": [
       "<div>\n",
       "<style scoped>\n",
       "    .dataframe tbody tr th:only-of-type {\n",
       "        vertical-align: middle;\n",
       "    }\n",
       "\n",
       "    .dataframe tbody tr th {\n",
       "        vertical-align: top;\n",
       "    }\n",
       "\n",
       "    .dataframe thead th {\n",
       "        text-align: right;\n",
       "    }\n",
       "</style>\n",
       "<table border=\"1\" class=\"dataframe\">\n",
       "  <thead>\n",
       "    <tr style=\"text-align: right;\">\n",
       "      <th></th>\n",
       "      <th>count</th>\n",
       "      <th>mean</th>\n",
       "      <th>std</th>\n",
       "      <th>min</th>\n",
       "      <th>25%</th>\n",
       "      <th>50%</th>\n",
       "      <th>75%</th>\n",
       "      <th>max</th>\n",
       "    </tr>\n",
       "  </thead>\n",
       "  <tbody>\n",
       "    <tr>\n",
       "      <th>Id</th>\n",
       "      <td>2051.0</td>\n",
       "      <td>1474.033642</td>\n",
       "      <td>843.980841</td>\n",
       "      <td>1.0</td>\n",
       "      <td>753.5</td>\n",
       "      <td>1486.0</td>\n",
       "      <td>2198.00</td>\n",
       "      <td>2930.0</td>\n",
       "    </tr>\n",
       "    <tr>\n",
       "      <th>MS SubClass</th>\n",
       "      <td>2051.0</td>\n",
       "      <td>57.008776</td>\n",
       "      <td>42.824223</td>\n",
       "      <td>20.0</td>\n",
       "      <td>20.0</td>\n",
       "      <td>50.0</td>\n",
       "      <td>70.00</td>\n",
       "      <td>190.0</td>\n",
       "    </tr>\n",
       "    <tr>\n",
       "      <th>Lot Frontage</th>\n",
       "      <td>1721.0</td>\n",
       "      <td>69.055200</td>\n",
       "      <td>23.260653</td>\n",
       "      <td>21.0</td>\n",
       "      <td>58.0</td>\n",
       "      <td>68.0</td>\n",
       "      <td>80.00</td>\n",
       "      <td>313.0</td>\n",
       "    </tr>\n",
       "    <tr>\n",
       "      <th>Lot Area</th>\n",
       "      <td>2051.0</td>\n",
       "      <td>10065.208191</td>\n",
       "      <td>6742.488909</td>\n",
       "      <td>1300.0</td>\n",
       "      <td>7500.0</td>\n",
       "      <td>9430.0</td>\n",
       "      <td>11513.50</td>\n",
       "      <td>159000.0</td>\n",
       "    </tr>\n",
       "    <tr>\n",
       "      <th>Overall Qual</th>\n",
       "      <td>2051.0</td>\n",
       "      <td>6.112140</td>\n",
       "      <td>1.426271</td>\n",
       "      <td>1.0</td>\n",
       "      <td>5.0</td>\n",
       "      <td>6.0</td>\n",
       "      <td>7.00</td>\n",
       "      <td>10.0</td>\n",
       "    </tr>\n",
       "    <tr>\n",
       "      <th>Overall Cond</th>\n",
       "      <td>2051.0</td>\n",
       "      <td>5.562165</td>\n",
       "      <td>1.104497</td>\n",
       "      <td>1.0</td>\n",
       "      <td>5.0</td>\n",
       "      <td>5.0</td>\n",
       "      <td>6.00</td>\n",
       "      <td>9.0</td>\n",
       "    </tr>\n",
       "    <tr>\n",
       "      <th>Year Built</th>\n",
       "      <td>2051.0</td>\n",
       "      <td>1971.708922</td>\n",
       "      <td>30.177889</td>\n",
       "      <td>1872.0</td>\n",
       "      <td>1953.5</td>\n",
       "      <td>1974.0</td>\n",
       "      <td>2001.00</td>\n",
       "      <td>2010.0</td>\n",
       "    </tr>\n",
       "    <tr>\n",
       "      <th>Year Remod/Add</th>\n",
       "      <td>2051.0</td>\n",
       "      <td>1984.190151</td>\n",
       "      <td>21.036250</td>\n",
       "      <td>1950.0</td>\n",
       "      <td>1964.5</td>\n",
       "      <td>1993.0</td>\n",
       "      <td>2004.00</td>\n",
       "      <td>2010.0</td>\n",
       "    </tr>\n",
       "    <tr>\n",
       "      <th>Mas Vnr Area</th>\n",
       "      <td>2029.0</td>\n",
       "      <td>99.695909</td>\n",
       "      <td>174.963129</td>\n",
       "      <td>0.0</td>\n",
       "      <td>0.0</td>\n",
       "      <td>0.0</td>\n",
       "      <td>161.00</td>\n",
       "      <td>1600.0</td>\n",
       "    </tr>\n",
       "    <tr>\n",
       "      <th>BsmtFin SF 1</th>\n",
       "      <td>2050.0</td>\n",
       "      <td>442.300488</td>\n",
       "      <td>461.204124</td>\n",
       "      <td>0.0</td>\n",
       "      <td>0.0</td>\n",
       "      <td>368.0</td>\n",
       "      <td>733.75</td>\n",
       "      <td>5644.0</td>\n",
       "    </tr>\n",
       "    <tr>\n",
       "      <th>BsmtFin SF 2</th>\n",
       "      <td>2050.0</td>\n",
       "      <td>47.959024</td>\n",
       "      <td>165.000901</td>\n",
       "      <td>0.0</td>\n",
       "      <td>0.0</td>\n",
       "      <td>0.0</td>\n",
       "      <td>0.00</td>\n",
       "      <td>1474.0</td>\n",
       "    </tr>\n",
       "    <tr>\n",
       "      <th>Bsmt Unf SF</th>\n",
       "      <td>2050.0</td>\n",
       "      <td>567.728293</td>\n",
       "      <td>444.954786</td>\n",
       "      <td>0.0</td>\n",
       "      <td>220.0</td>\n",
       "      <td>474.5</td>\n",
       "      <td>811.00</td>\n",
       "      <td>2336.0</td>\n",
       "    </tr>\n",
       "    <tr>\n",
       "      <th>Total Bsmt SF</th>\n",
       "      <td>2050.0</td>\n",
       "      <td>1057.987805</td>\n",
       "      <td>449.410704</td>\n",
       "      <td>0.0</td>\n",
       "      <td>793.0</td>\n",
       "      <td>994.5</td>\n",
       "      <td>1318.75</td>\n",
       "      <td>6110.0</td>\n",
       "    </tr>\n",
       "    <tr>\n",
       "      <th>1st Flr SF</th>\n",
       "      <td>2051.0</td>\n",
       "      <td>1164.488055</td>\n",
       "      <td>396.446923</td>\n",
       "      <td>334.0</td>\n",
       "      <td>879.5</td>\n",
       "      <td>1093.0</td>\n",
       "      <td>1405.00</td>\n",
       "      <td>5095.0</td>\n",
       "    </tr>\n",
       "    <tr>\n",
       "      <th>2nd Flr SF</th>\n",
       "      <td>2051.0</td>\n",
       "      <td>329.329108</td>\n",
       "      <td>425.671046</td>\n",
       "      <td>0.0</td>\n",
       "      <td>0.0</td>\n",
       "      <td>0.0</td>\n",
       "      <td>692.50</td>\n",
       "      <td>1862.0</td>\n",
       "    </tr>\n",
       "    <tr>\n",
       "      <th>Low Qual Fin SF</th>\n",
       "      <td>2051.0</td>\n",
       "      <td>5.512921</td>\n",
       "      <td>51.068870</td>\n",
       "      <td>0.0</td>\n",
       "      <td>0.0</td>\n",
       "      <td>0.0</td>\n",
       "      <td>0.00</td>\n",
       "      <td>1064.0</td>\n",
       "    </tr>\n",
       "    <tr>\n",
       "      <th>Gr Liv Area</th>\n",
       "      <td>2051.0</td>\n",
       "      <td>1499.330083</td>\n",
       "      <td>500.447829</td>\n",
       "      <td>334.0</td>\n",
       "      <td>1129.0</td>\n",
       "      <td>1444.0</td>\n",
       "      <td>1728.50</td>\n",
       "      <td>5642.0</td>\n",
       "    </tr>\n",
       "    <tr>\n",
       "      <th>Bsmt Full Bath</th>\n",
       "      <td>2049.0</td>\n",
       "      <td>0.427526</td>\n",
       "      <td>0.522673</td>\n",
       "      <td>0.0</td>\n",
       "      <td>0.0</td>\n",
       "      <td>0.0</td>\n",
       "      <td>1.00</td>\n",
       "      <td>3.0</td>\n",
       "    </tr>\n",
       "    <tr>\n",
       "      <th>Bsmt Half Bath</th>\n",
       "      <td>2049.0</td>\n",
       "      <td>0.063446</td>\n",
       "      <td>0.251705</td>\n",
       "      <td>0.0</td>\n",
       "      <td>0.0</td>\n",
       "      <td>0.0</td>\n",
       "      <td>0.00</td>\n",
       "      <td>2.0</td>\n",
       "    </tr>\n",
       "    <tr>\n",
       "      <th>Full Bath</th>\n",
       "      <td>2051.0</td>\n",
       "      <td>1.577279</td>\n",
       "      <td>0.549279</td>\n",
       "      <td>0.0</td>\n",
       "      <td>1.0</td>\n",
       "      <td>2.0</td>\n",
       "      <td>2.00</td>\n",
       "      <td>4.0</td>\n",
       "    </tr>\n",
       "    <tr>\n",
       "      <th>Half Bath</th>\n",
       "      <td>2051.0</td>\n",
       "      <td>0.371039</td>\n",
       "      <td>0.501043</td>\n",
       "      <td>0.0</td>\n",
       "      <td>0.0</td>\n",
       "      <td>0.0</td>\n",
       "      <td>1.00</td>\n",
       "      <td>2.0</td>\n",
       "    </tr>\n",
       "    <tr>\n",
       "      <th>Bedroom AbvGr</th>\n",
       "      <td>2051.0</td>\n",
       "      <td>2.843491</td>\n",
       "      <td>0.826618</td>\n",
       "      <td>0.0</td>\n",
       "      <td>2.0</td>\n",
       "      <td>3.0</td>\n",
       "      <td>3.00</td>\n",
       "      <td>8.0</td>\n",
       "    </tr>\n",
       "    <tr>\n",
       "      <th>Kitchen AbvGr</th>\n",
       "      <td>2051.0</td>\n",
       "      <td>1.042906</td>\n",
       "      <td>0.209790</td>\n",
       "      <td>0.0</td>\n",
       "      <td>1.0</td>\n",
       "      <td>1.0</td>\n",
       "      <td>1.00</td>\n",
       "      <td>3.0</td>\n",
       "    </tr>\n",
       "    <tr>\n",
       "      <th>TotRms AbvGrd</th>\n",
       "      <td>2051.0</td>\n",
       "      <td>6.435885</td>\n",
       "      <td>1.560225</td>\n",
       "      <td>2.0</td>\n",
       "      <td>5.0</td>\n",
       "      <td>6.0</td>\n",
       "      <td>7.00</td>\n",
       "      <td>15.0</td>\n",
       "    </tr>\n",
       "    <tr>\n",
       "      <th>Fireplaces</th>\n",
       "      <td>2051.0</td>\n",
       "      <td>0.590931</td>\n",
       "      <td>0.638516</td>\n",
       "      <td>0.0</td>\n",
       "      <td>0.0</td>\n",
       "      <td>1.0</td>\n",
       "      <td>1.00</td>\n",
       "      <td>4.0</td>\n",
       "    </tr>\n",
       "    <tr>\n",
       "      <th>Garage Yr Blt</th>\n",
       "      <td>1937.0</td>\n",
       "      <td>1978.707796</td>\n",
       "      <td>25.441094</td>\n",
       "      <td>1895.0</td>\n",
       "      <td>1961.0</td>\n",
       "      <td>1980.0</td>\n",
       "      <td>2002.00</td>\n",
       "      <td>2207.0</td>\n",
       "    </tr>\n",
       "    <tr>\n",
       "      <th>Garage Cars</th>\n",
       "      <td>2050.0</td>\n",
       "      <td>1.776585</td>\n",
       "      <td>0.764537</td>\n",
       "      <td>0.0</td>\n",
       "      <td>1.0</td>\n",
       "      <td>2.0</td>\n",
       "      <td>2.00</td>\n",
       "      <td>5.0</td>\n",
       "    </tr>\n",
       "    <tr>\n",
       "      <th>Garage Area</th>\n",
       "      <td>2050.0</td>\n",
       "      <td>473.671707</td>\n",
       "      <td>215.934561</td>\n",
       "      <td>0.0</td>\n",
       "      <td>319.0</td>\n",
       "      <td>480.0</td>\n",
       "      <td>576.00</td>\n",
       "      <td>1418.0</td>\n",
       "    </tr>\n",
       "    <tr>\n",
       "      <th>Wood Deck SF</th>\n",
       "      <td>2051.0</td>\n",
       "      <td>93.833740</td>\n",
       "      <td>128.549416</td>\n",
       "      <td>0.0</td>\n",
       "      <td>0.0</td>\n",
       "      <td>0.0</td>\n",
       "      <td>168.00</td>\n",
       "      <td>1424.0</td>\n",
       "    </tr>\n",
       "    <tr>\n",
       "      <th>Open Porch SF</th>\n",
       "      <td>2051.0</td>\n",
       "      <td>47.556802</td>\n",
       "      <td>66.747241</td>\n",
       "      <td>0.0</td>\n",
       "      <td>0.0</td>\n",
       "      <td>27.0</td>\n",
       "      <td>70.00</td>\n",
       "      <td>547.0</td>\n",
       "    </tr>\n",
       "    <tr>\n",
       "      <th>Enclosed Porch</th>\n",
       "      <td>2051.0</td>\n",
       "      <td>22.571916</td>\n",
       "      <td>59.845110</td>\n",
       "      <td>0.0</td>\n",
       "      <td>0.0</td>\n",
       "      <td>0.0</td>\n",
       "      <td>0.00</td>\n",
       "      <td>432.0</td>\n",
       "    </tr>\n",
       "    <tr>\n",
       "      <th>3Ssn Porch</th>\n",
       "      <td>2051.0</td>\n",
       "      <td>2.591419</td>\n",
       "      <td>25.229615</td>\n",
       "      <td>0.0</td>\n",
       "      <td>0.0</td>\n",
       "      <td>0.0</td>\n",
       "      <td>0.00</td>\n",
       "      <td>508.0</td>\n",
       "    </tr>\n",
       "    <tr>\n",
       "      <th>Screen Porch</th>\n",
       "      <td>2051.0</td>\n",
       "      <td>16.511458</td>\n",
       "      <td>57.374204</td>\n",
       "      <td>0.0</td>\n",
       "      <td>0.0</td>\n",
       "      <td>0.0</td>\n",
       "      <td>0.00</td>\n",
       "      <td>490.0</td>\n",
       "    </tr>\n",
       "    <tr>\n",
       "      <th>Pool Area</th>\n",
       "      <td>2051.0</td>\n",
       "      <td>2.397855</td>\n",
       "      <td>37.782570</td>\n",
       "      <td>0.0</td>\n",
       "      <td>0.0</td>\n",
       "      <td>0.0</td>\n",
       "      <td>0.00</td>\n",
       "      <td>800.0</td>\n",
       "    </tr>\n",
       "    <tr>\n",
       "      <th>Misc Val</th>\n",
       "      <td>2051.0</td>\n",
       "      <td>51.574354</td>\n",
       "      <td>573.393985</td>\n",
       "      <td>0.0</td>\n",
       "      <td>0.0</td>\n",
       "      <td>0.0</td>\n",
       "      <td>0.00</td>\n",
       "      <td>17000.0</td>\n",
       "    </tr>\n",
       "    <tr>\n",
       "      <th>Mo Sold</th>\n",
       "      <td>2051.0</td>\n",
       "      <td>6.219893</td>\n",
       "      <td>2.744736</td>\n",
       "      <td>1.0</td>\n",
       "      <td>4.0</td>\n",
       "      <td>6.0</td>\n",
       "      <td>8.00</td>\n",
       "      <td>12.0</td>\n",
       "    </tr>\n",
       "    <tr>\n",
       "      <th>Yr Sold</th>\n",
       "      <td>2051.0</td>\n",
       "      <td>2007.775719</td>\n",
       "      <td>1.312014</td>\n",
       "      <td>2006.0</td>\n",
       "      <td>2007.0</td>\n",
       "      <td>2008.0</td>\n",
       "      <td>2009.00</td>\n",
       "      <td>2010.0</td>\n",
       "    </tr>\n",
       "    <tr>\n",
       "      <th>SalePrice</th>\n",
       "      <td>2051.0</td>\n",
       "      <td>181469.701609</td>\n",
       "      <td>79258.659352</td>\n",
       "      <td>12789.0</td>\n",
       "      <td>129825.0</td>\n",
       "      <td>162500.0</td>\n",
       "      <td>214000.00</td>\n",
       "      <td>611657.0</td>\n",
       "    </tr>\n",
       "  </tbody>\n",
       "</table>\n",
       "</div>"
      ],
      "text/plain": [
       "                  count           mean           std      min       25%  \\\n",
       "Id               2051.0    1474.033642    843.980841      1.0     753.5   \n",
       "MS SubClass      2051.0      57.008776     42.824223     20.0      20.0   \n",
       "Lot Frontage     1721.0      69.055200     23.260653     21.0      58.0   \n",
       "Lot Area         2051.0   10065.208191   6742.488909   1300.0    7500.0   \n",
       "Overall Qual     2051.0       6.112140      1.426271      1.0       5.0   \n",
       "Overall Cond     2051.0       5.562165      1.104497      1.0       5.0   \n",
       "Year Built       2051.0    1971.708922     30.177889   1872.0    1953.5   \n",
       "Year Remod/Add   2051.0    1984.190151     21.036250   1950.0    1964.5   \n",
       "Mas Vnr Area     2029.0      99.695909    174.963129      0.0       0.0   \n",
       "BsmtFin SF 1     2050.0     442.300488    461.204124      0.0       0.0   \n",
       "BsmtFin SF 2     2050.0      47.959024    165.000901      0.0       0.0   \n",
       "Bsmt Unf SF      2050.0     567.728293    444.954786      0.0     220.0   \n",
       "Total Bsmt SF    2050.0    1057.987805    449.410704      0.0     793.0   \n",
       "1st Flr SF       2051.0    1164.488055    396.446923    334.0     879.5   \n",
       "2nd Flr SF       2051.0     329.329108    425.671046      0.0       0.0   \n",
       "Low Qual Fin SF  2051.0       5.512921     51.068870      0.0       0.0   \n",
       "Gr Liv Area      2051.0    1499.330083    500.447829    334.0    1129.0   \n",
       "Bsmt Full Bath   2049.0       0.427526      0.522673      0.0       0.0   \n",
       "Bsmt Half Bath   2049.0       0.063446      0.251705      0.0       0.0   \n",
       "Full Bath        2051.0       1.577279      0.549279      0.0       1.0   \n",
       "Half Bath        2051.0       0.371039      0.501043      0.0       0.0   \n",
       "Bedroom AbvGr    2051.0       2.843491      0.826618      0.0       2.0   \n",
       "Kitchen AbvGr    2051.0       1.042906      0.209790      0.0       1.0   \n",
       "TotRms AbvGrd    2051.0       6.435885      1.560225      2.0       5.0   \n",
       "Fireplaces       2051.0       0.590931      0.638516      0.0       0.0   \n",
       "Garage Yr Blt    1937.0    1978.707796     25.441094   1895.0    1961.0   \n",
       "Garage Cars      2050.0       1.776585      0.764537      0.0       1.0   \n",
       "Garage Area      2050.0     473.671707    215.934561      0.0     319.0   \n",
       "Wood Deck SF     2051.0      93.833740    128.549416      0.0       0.0   \n",
       "Open Porch SF    2051.0      47.556802     66.747241      0.0       0.0   \n",
       "Enclosed Porch   2051.0      22.571916     59.845110      0.0       0.0   \n",
       "3Ssn Porch       2051.0       2.591419     25.229615      0.0       0.0   \n",
       "Screen Porch     2051.0      16.511458     57.374204      0.0       0.0   \n",
       "Pool Area        2051.0       2.397855     37.782570      0.0       0.0   \n",
       "Misc Val         2051.0      51.574354    573.393985      0.0       0.0   \n",
       "Mo Sold          2051.0       6.219893      2.744736      1.0       4.0   \n",
       "Yr Sold          2051.0    2007.775719      1.312014   2006.0    2007.0   \n",
       "SalePrice        2051.0  181469.701609  79258.659352  12789.0  129825.0   \n",
       "\n",
       "                      50%        75%       max  \n",
       "Id                 1486.0    2198.00    2930.0  \n",
       "MS SubClass          50.0      70.00     190.0  \n",
       "Lot Frontage         68.0      80.00     313.0  \n",
       "Lot Area           9430.0   11513.50  159000.0  \n",
       "Overall Qual          6.0       7.00      10.0  \n",
       "Overall Cond          5.0       6.00       9.0  \n",
       "Year Built         1974.0    2001.00    2010.0  \n",
       "Year Remod/Add     1993.0    2004.00    2010.0  \n",
       "Mas Vnr Area          0.0     161.00    1600.0  \n",
       "BsmtFin SF 1        368.0     733.75    5644.0  \n",
       "BsmtFin SF 2          0.0       0.00    1474.0  \n",
       "Bsmt Unf SF         474.5     811.00    2336.0  \n",
       "Total Bsmt SF       994.5    1318.75    6110.0  \n",
       "1st Flr SF         1093.0    1405.00    5095.0  \n",
       "2nd Flr SF            0.0     692.50    1862.0  \n",
       "Low Qual Fin SF       0.0       0.00    1064.0  \n",
       "Gr Liv Area        1444.0    1728.50    5642.0  \n",
       "Bsmt Full Bath        0.0       1.00       3.0  \n",
       "Bsmt Half Bath        0.0       0.00       2.0  \n",
       "Full Bath             2.0       2.00       4.0  \n",
       "Half Bath             0.0       1.00       2.0  \n",
       "Bedroom AbvGr         3.0       3.00       8.0  \n",
       "Kitchen AbvGr         1.0       1.00       3.0  \n",
       "TotRms AbvGrd         6.0       7.00      15.0  \n",
       "Fireplaces            1.0       1.00       4.0  \n",
       "Garage Yr Blt      1980.0    2002.00    2207.0  \n",
       "Garage Cars           2.0       2.00       5.0  \n",
       "Garage Area         480.0     576.00    1418.0  \n",
       "Wood Deck SF          0.0     168.00    1424.0  \n",
       "Open Porch SF        27.0      70.00     547.0  \n",
       "Enclosed Porch        0.0       0.00     432.0  \n",
       "3Ssn Porch            0.0       0.00     508.0  \n",
       "Screen Porch          0.0       0.00     490.0  \n",
       "Pool Area             0.0       0.00     800.0  \n",
       "Misc Val              0.0       0.00   17000.0  \n",
       "Mo Sold               6.0       8.00      12.0  \n",
       "Yr Sold            2008.0    2009.00    2010.0  \n",
       "SalePrice        162500.0  214000.00  611657.0  "
      ]
     },
     "execution_count": 49,
     "metadata": {},
     "output_type": "execute_result"
    }
   ],
   "source": [
    "ames_df.describe().T"
   ]
  },
  {
   "cell_type": "markdown",
   "id": "58e9f62d-1681-4b95-9680-78974de18857",
   "metadata": {},
   "source": [
    "Scanning through all these comments,it all seems to make sense! Nothing standing out as particularly weird or strange here."
   ]
  },
  {
   "cell_type": "markdown",
   "id": "d7c02432-ae05-4fa0-bc69-f4e89b43689e",
   "metadata": {},
   "source": [
    "Let's also plot a histogram of the target variable, the sale price"
   ]
  },
  {
   "cell_type": "code",
   "execution_count": 59,
   "id": "ec7f90fd-5ead-41c6-a335-17fa185b17ec",
   "metadata": {},
   "outputs": [
    {
     "data": {
      "image/png": "[encoded data removed]",
      "text/plain": [
       "<Figure size 576x432 with 1 Axes>"
      ]
     },
     "metadata": {
      "needs_background": "light"
     },
     "output_type": "display_data"
    }
   ],
   "source": [
    "fig, ax = plt.subplots(figsize=(8, 6))\n",
    "ax.hist(ames_df['SalePrice'], bins=30, histtype='step', linewidth='3')\n",
    "ax.set_xlabel('Sale Price [dollars]', fontsize=14)\n",
    "ax.set_ylabel('Nr of houses', fontsize=14)\n",
    "ax.axvline(ames_df['SalePrice'].median(), linestyle='dashed', color='grey', linewidth=3)\n",
    "ax.set_title('Distribution of Sale price in the Ames data set', fontsize=14, fontweight='bold')\n",
    "plt.savefig('../figures/saleprice_dist.png', dpi=300)\n",
    "plt.show()"
   ]
  },
  {
   "cell_type": "markdown",
   "id": "cf86d588-20d3-4e44-8dfa-ad7371752551",
   "metadata": {},
   "source": [
    "The distribution of sale price is pretty right-skewed. I will keep this in mind, because it might be useful to do a log-transform of the data when we get to the modeling stage.\n",
    "\n",
    "I would like to know how many missing values are in each of the columns. For this I'll make a bar plot. To keep the size of the plot manageable, I will only include columns with at least  1 missing value"
   ]
  },
  {
   "cell_type": "code",
   "execution_count": 65,
   "id": "2ab45761-bb96-491c-87b1-5e6aadf9bf21",
   "metadata": {},
   "outputs": [
    {
     "data": {
      "image/png": "[encoded data removed]",
      "text/plain": [
       "<Figure size 900x720 with 1 Axes>"
      ]
     },
     "metadata": {
      "needs_background": "light"
     },
     "output_type": "display_data"
    }
   ],
   "source": [
    "#make bar plot of missing values\n",
    "nan_l, col_l = [], []\n",
    "for i, col in enumerate(ames_df.columns): \n",
    "    mval = ames_df[col].isna().sum()\n",
    "    if mval > 0: \n",
    "        nan_l.append(mval)\n",
    "        col_l.append(col)\n",
    "nan_arr = np.array(nan_l)\n",
    "fig, ax = plt.subplots(figsize=(12.5 ,10))\n",
    "y_pos = np.arange(len(col_l))\n",
    "\n",
    "ax.barh(y_pos, nan_arr, color='tab:red')\n",
    "\n",
    "#this is a little awkward, but I couldn't find a better way to increase the fontsize of the y-labels\n",
    "#if you don't first set yticks specifically, matplotlib gives you a warning\n",
    "#apparently in the newest version of matplotlib, you can specify labels and fontsize in set_yticks\n",
    "ax.set_yticks(y_pos)\n",
    "ax.set_yticklabels(labels=col_l, fontsize=14)\n",
    "\n",
    "ax.invert_yaxis() \n",
    "\n",
    "#add labels: (note, there is a new function called \n",
    "#ax.bar_label but I have an older version of matplotlib installed)\n",
    "#I copied this from https://stackoverflow.com/questions/30228069/how-to-display-the-value-on-horizontal-bars\n",
    "for i, v in enumerate(nan_arr):\n",
    "    ax.text(v + 10, i + 0.15, str(int(v)), color='black', fontweight='bold')\n",
    "    \n",
    "ax.set_xlabel('Number of missing values', fontsize=14)\n",
    "ax.set_xlim(0, 2300)\n",
    "#add a dashed line to indicate the total number of rows in the data set\n",
    "ax.axvline(ames_df.shape[0], linestyle='dashed', alpha=0.5, color='grey', linewidth=2.5)\n",
    "ax.set_title('Number of missing values in columns with at least 1 missing value', fontsize=14, fontweight='bold')\n",
    "\n",
    "plt.savefig('../figures/missingvals.png', dpi=300)\n",
    "plt.show()"
   ]
  },
  {
   "cell_type": "markdown",
   "id": "713bfdf8-e458-45b6-baab-d22f8d1d33cf",
   "metadata": {},
   "source": [
    "To figure out more about why these columns have missing values, let's get some information about them\n",
    "For each column with missing values: \n",
    "\n",
    "If the data is continuous, print the mean, min and max values <br>\n",
    "If the data is categorical, do a value_counts()"
   ]
  },
  {
   "cell_type": "code",
   "execution_count": 8,
   "id": "0bfa1139-826a-475c-b72f-cf90586476ce",
   "metadata": {},
   "outputs": [
    {
     "name": "stdout",
     "output_type": "stream",
     "text": [
      "Column: Lot Frontage is continous\n",
      "Mean: 69.06 min value: 21.0 max value 313.0 \n",
      "\n",
      "Column: Alley is categorical\n",
      "Grvl    85\n",
      "Pave    55\n",
      "Name: Alley, dtype: int64 \n",
      "\n",
      "Column: Mas Vnr Type is categorical\n",
      "None       1218\n",
      "BrkFace     630\n",
      "Stone       168\n",
      "BrkCmn       13\n",
      "Name: Mas Vnr Type, dtype: int64 \n",
      "\n",
      "Column: Mas Vnr Area is continous\n",
      "Mean: 99.7 min value: 0.0 max value 1600.0 \n",
      "\n",
      "Column: Bsmt Qual is categorical\n",
      "TA    887\n",
      "Gd    864\n",
      "Ex    184\n",
      "Fa     60\n",
      "Po      1\n",
      "Name: Bsmt Qual, dtype: int64 \n",
      "\n",
      "Column: Bsmt Cond is categorical\n",
      "TA    1834\n",
      "Gd      89\n",
      "Fa      65\n",
      "Po       5\n",
      "Ex       3\n",
      "Name: Bsmt Cond, dtype: int64 \n",
      "\n",
      "Column: Bsmt Exposure is categorical\n",
      "No    1339\n",
      "Av     288\n",
      "Gd     203\n",
      "Mn     163\n",
      "Name: Bsmt Exposure, dtype: int64 \n",
      "\n",
      "Column: BsmtFin Type 1 is categorical\n",
      "GLQ    615\n",
      "Unf    603\n",
      "ALQ    293\n",
      "BLQ    200\n",
      "Rec    183\n",
      "LwQ    102\n",
      "Name: BsmtFin Type 1, dtype: int64 \n",
      "\n",
      "Column: BsmtFin SF 1 is continous\n",
      "Mean: 442.3 min value: 0.0 max value 5644.0 \n",
      "\n",
      "Column: BsmtFin Type 2 is categorical\n",
      "Unf    1749\n",
      "Rec      80\n",
      "LwQ      60\n",
      "BLQ      48\n",
      "ALQ      35\n",
      "GLQ      23\n",
      "Name: BsmtFin Type 2, dtype: int64 \n",
      "\n",
      "Column: BsmtFin SF 2 is continous\n",
      "Mean: 47.96 min value: 0.0 max value 1474.0 \n",
      "\n",
      "Column: Bsmt Unf SF is continous\n",
      "Mean: 567.73 min value: 0.0 max value 2336.0 \n",
      "\n",
      "Column: Total Bsmt SF is continous\n",
      "Mean: 1057.99 min value: 0.0 max value 6110.0 \n",
      "\n",
      "Column: Bsmt Full Bath is continous\n",
      "Mean: 0.43 min value: 0.0 max value 3.0 \n",
      "\n",
      "Column: Bsmt Half Bath is continous\n",
      "Mean: 0.06 min value: 0.0 max value 2.0 \n",
      "\n",
      "Column: Fireplace Qu is categorical\n",
      "Gd    523\n",
      "TA    407\n",
      "Fa     59\n",
      "Ex     31\n",
      "Po     31\n",
      "Name: Fireplace Qu, dtype: int64 \n",
      "\n",
      "Column: Garage Type is categorical\n",
      "Attchd     1213\n",
      "Detchd      536\n",
      "BuiltIn     132\n",
      "Basment      27\n",
      "2Types       19\n",
      "CarPort      11\n",
      "Name: Garage Type, dtype: int64 \n",
      "\n",
      "Column: Garage Yr Blt is continous\n",
      "Mean: 1978.71 min value: 1895.0 max value 2207.0 \n",
      "\n",
      "Column: Garage Finish is categorical\n",
      "Unf    849\n",
      "RFn    579\n",
      "Fin    509\n",
      "Name: Garage Finish, dtype: int64 \n",
      "\n",
      "Column: Garage Cars is continous\n",
      "Mean: 1.78 min value: 0.0 max value 5.0 \n",
      "\n",
      "Column: Garage Area is continous\n",
      "Mean: 473.67 min value: 0.0 max value 1418.0 \n",
      "\n",
      "Column: Garage Qual is categorical\n",
      "TA    1832\n",
      "Fa      82\n",
      "Gd      18\n",
      "Ex       3\n",
      "Po       2\n",
      "Name: Garage Qual, dtype: int64 \n",
      "\n",
      "Column: Garage Cond is categorical\n",
      "TA    1868\n",
      "Fa      47\n",
      "Gd      12\n",
      "Po       8\n",
      "Ex       2\n",
      "Name: Garage Cond, dtype: int64 \n",
      "\n",
      "Column: Pool QC is categorical\n",
      "Gd    4\n",
      "TA    2\n",
      "Fa    2\n",
      "Ex    1\n",
      "Name: Pool QC, dtype: int64 \n",
      "\n",
      "Column: Fence is categorical\n",
      "MnPrv    227\n",
      "GdPrv     83\n",
      "GdWo      80\n",
      "MnWw      10\n",
      "Name: Fence, dtype: int64 \n",
      "\n",
      "Column: Misc Feature is categorical\n",
      "Shed    56\n",
      "Gar2     4\n",
      "Othr     3\n",
      "Elev     1\n",
      "TenC     1\n",
      "Name: Misc Feature, dtype: int64 \n",
      "\n"
     ]
    }
   ],
   "source": [
    "for col in col_l:\n",
    "    if (ames_df[col].dtypes == 'float64') or (ames_df[col].dtypes == 'int64'):\n",
    "        col_mean = str(round(ames_df[col].mean(),2))\n",
    "        col_min = str(round(ames_df[col].min(),2))\n",
    "        col_max =  str(round(ames_df[col].max(),2))\n",
    "        print(f'Column: {col} is continous')\n",
    "        print(f'Mean: {col_mean} min value: {col_min} max value {col_max} \\n')\n",
    "    elif ames_df[col].dtypes == 'object':\n",
    "        print(f'Column: {col} is categorical')\n",
    "        print(ames_df[col].value_counts(), '\\n')\n",
    "\n",
    "        "
   ]
  },
  {
   "cell_type": "markdown",
   "id": "5b3f3840-89b5-4115-895d-e804d4a03cb3",
   "metadata": {},
   "source": [
    "Now going over this one by one:\n",
    "For the Lot Frontage: It could be that 'NaN' just means no lot frontage, but I'm pretty sure that the vast majority of houses is required to have lot frontage. 15% of houses having no lot frontage seems like a lot. It may just mean there is genuinely no information.\n",
    "\n",
    "What if we use imputation for this? The simple thing to do would be to just take the median lot frontage of the set and impute that. But thinking about this a little more - assuming that the lot area is a square and bounded by a street on one side, the lot frontage should be somewhat close to the square root of the lot area. \n",
    "\n",
    "This is obviously a rough assumption, but it might be better than just taking the median overall. At the same time, it would ensure that lot area and frontage are going to be strongly correlated, which would weaken the LINEM assumptions (ie the model would not be good for inference). But since I'm building a predictive model, that's probably not as big of a deal"
   ]
  },
  {
   "cell_type": "code",
   "execution_count": 9,
   "id": "b45eaa6b-afac-4b76-b527-4c4e46af58fe",
   "metadata": {},
   "outputs": [
    {
     "name": "stdout",
     "output_type": "stream",
     "text": [
      "313.0\n"
     ]
    },
    {
     "data": {
      "image/png": "[encoded data removed]",
      "text/plain": [
       "<Figure size 576x432 with 1 Axes>"
      ]
     },
     "metadata": {
      "needs_background": "light"
     },
     "output_type": "display_data"
    },
    {
     "name": "stdout",
     "output_type": "stream",
     "text": [
      "26.48374151136369\n"
     ]
    }
   ],
   "source": [
    "area_lf = ames_df['Lot Area'][ames_df['Lot Frontage'].isna() == False]\n",
    "lotfrontage = ames_df['Lot Frontage'][ames_df['Lot Frontage'].isna() == False]\n",
    "print(lotfrontage.max())\n",
    "#what's the average difference between the square root of the area and the lot frontage?\n",
    "diff = np.mean(np.sqrt(area_lf) - lotfrontage)\n",
    "\n",
    "fig, ax = plt.subplots(figsize=(8,6))\n",
    "\n",
    "xs = np.linspace(0, 350, 40)\n",
    "ax.scatter(lotfrontage, np.sqrt(area_lf)-diff, alpha=0.6)\n",
    "ax.plot(xs, xs, color='red', linestyle='dashed')\n",
    "ax.set_xlabel('Lot frontage')\n",
    "ax.set_ylabel('Square root of area')\n",
    "plt.show()\n",
    "print(diff)"
   ]
  },
  {
   "cell_type": "markdown",
   "id": "4d2d9dd2-ab06-4f48-8518-ab7d5daffb17",
   "metadata": {},
   "source": [
    "That seems like a reasonable assumption for a predictive model. Let's impute lot frontage with sqrt(area) - diff, where diff is calculated above as 26.45.\n",
    "Let's also max out the lot frontage at the maximum value measured in the other points"
   ]
  },
  {
   "cell_type": "code",
   "execution_count": 10,
   "id": "32d98680-26e8-487c-9b99-e89065e63680",
   "metadata": {},
   "outputs": [],
   "source": [
    "isna_inds = np.where(ames_df['Lot Frontage'].isna() == True)[0]\n",
    "fill_vals =  np.sqrt(ames_df.iloc[isna_inds]['Lot Area']) - diff\n",
    "ames_df['Lot Frontage'].fillna(fill_vals, inplace=True)"
   ]
  },
  {
   "cell_type": "code",
   "execution_count": 11,
   "id": "86735285-b663-4acb-a35b-47e6389fd1b0",
   "metadata": {},
   "outputs": [
    {
     "data": {
      "image/png": "[encoded data removed]",
      "text/plain": [
       "<Figure size 576x432 with 1 Axes>"
      ]
     },
     "metadata": {
      "needs_background": "light"
     },
     "output_type": "display_data"
    }
   ],
   "source": [
    "area_lf = ames_df['Lot Area'][ames_df['Lot Frontage'].isna() == False]\n",
    "lotfrontage = ames_df['Lot Frontage'][ames_df['Lot Frontage'].isna() == False]\n",
    "\n",
    "#what's the average difference between the square root of the area and the lot frontage?\n",
    "fig, ax = plt.subplots(figsize=(8,6))\n",
    "\n",
    "xs = np.linspace(0, 350, 40)\n",
    "ax.scatter(lotfrontage, np.sqrt(area_lf)-diff, alpha=0.6)\n",
    "ax.plot(xs, xs, color='red', linestyle='dashed')\n",
    "ax.set_xlabel('Lot frontage')\n",
    "ax.set_ylabel('Square root of area')\n",
    "plt.show()"
   ]
  },
  {
   "cell_type": "markdown",
   "id": "63e54af3-f8b1-4ce9-b250-a78d029e7a5f",
   "metadata": {},
   "source": [
    "Looking down the list above, there are a few columns where from context and the data description, it seems that 'NA' just means 'not applicable', which means that feature isn't there. Pandas interprets this as NaN when reading in the file.\n",
    "\n",
    "Those columns seem to be 1) Alley, 2) Fireplace Qu, 3) Pool QC, 4) Fence, and 5) Misc Feature. The basement and garage-related columns are a little more complex because they have columns that are related to each other - so I'll look at them seperately. But for these 5 we can just impute a 'Not Applicable' value, which means that feature does not exist for that particular house. I can't use 'NA', because then pandas will again read it in as NaN when I save and reload the cleaned data in another notebook. So I'll use 'NP' for 'Not Present'."
   ]
  },
  {
   "cell_type": "code",
   "execution_count": 12,
   "id": "2dcbb89a-f5b3-44ce-b33b-0b3207f3e28f",
   "metadata": {},
   "outputs": [],
   "source": [
    "NA_features = ['Alley', 'Fireplace Qu', 'Pool QC', 'Fence', 'Misc Feature']\n",
    "for feature in NA_features:\n",
    "    ames_df[feature].fillna('NP', inplace=True)"
   ]
  },
  {
   "cell_type": "code",
   "execution_count": 13,
   "id": "7b36039f-bc32-46cd-993e-2a8ac2d88acc",
   "metadata": {},
   "outputs": [
    {
     "data": {
      "text/plain": [
       "(2051, 80)"
      ]
     },
     "execution_count": 13,
     "metadata": {},
     "output_type": "execute_result"
    }
   ],
   "source": [
    "ames_df.shape"
   ]
  },
  {
   "cell_type": "markdown",
   "id": "b9f7efb5-f6eb-4c13-8dff-b9b522b3cd5f",
   "metadata": {},
   "source": [
    "The next two variables evaluate Masonry veneer: the type, and the area. They have the same number of missing values. Let's check if they are exactly the same rows:"
   ]
  },
  {
   "cell_type": "code",
   "execution_count": 14,
   "id": "3e6dc989-f546-4160-8708-3b800d7c3f2f",
   "metadata": {},
   "outputs": [
    {
     "data": {
      "text/html": [
       "<div>\n",
       "<style scoped>\n",
       "    .dataframe tbody tr th:only-of-type {\n",
       "        vertical-align: middle;\n",
       "    }\n",
       "\n",
       "    .dataframe tbody tr th {\n",
       "        vertical-align: top;\n",
       "    }\n",
       "\n",
       "    .dataframe thead th {\n",
       "        text-align: right;\n",
       "    }\n",
       "</style>\n",
       "<table border=\"1\" class=\"dataframe\">\n",
       "  <thead>\n",
       "    <tr style=\"text-align: right;\">\n",
       "      <th></th>\n",
       "      <th>Mas Vnr Type</th>\n",
       "      <th>Mas Vnr Area</th>\n",
       "    </tr>\n",
       "  </thead>\n",
       "  <tbody>\n",
       "    <tr>\n",
       "      <th>22</th>\n",
       "      <td>NaN</td>\n",
       "      <td>NaN</td>\n",
       "    </tr>\n",
       "    <tr>\n",
       "      <th>41</th>\n",
       "      <td>NaN</td>\n",
       "      <td>NaN</td>\n",
       "    </tr>\n",
       "    <tr>\n",
       "      <th>86</th>\n",
       "      <td>NaN</td>\n",
       "      <td>NaN</td>\n",
       "    </tr>\n",
       "    <tr>\n",
       "      <th>212</th>\n",
       "      <td>NaN</td>\n",
       "      <td>NaN</td>\n",
       "    </tr>\n",
       "    <tr>\n",
       "      <th>276</th>\n",
       "      <td>NaN</td>\n",
       "      <td>NaN</td>\n",
       "    </tr>\n",
       "    <tr>\n",
       "      <th>338</th>\n",
       "      <td>NaN</td>\n",
       "      <td>NaN</td>\n",
       "    </tr>\n",
       "    <tr>\n",
       "      <th>431</th>\n",
       "      <td>NaN</td>\n",
       "      <td>NaN</td>\n",
       "    </tr>\n",
       "    <tr>\n",
       "      <th>451</th>\n",
       "      <td>NaN</td>\n",
       "      <td>NaN</td>\n",
       "    </tr>\n",
       "    <tr>\n",
       "      <th>591</th>\n",
       "      <td>NaN</td>\n",
       "      <td>NaN</td>\n",
       "    </tr>\n",
       "    <tr>\n",
       "      <th>844</th>\n",
       "      <td>NaN</td>\n",
       "      <td>NaN</td>\n",
       "    </tr>\n",
       "    <tr>\n",
       "      <th>913</th>\n",
       "      <td>NaN</td>\n",
       "      <td>NaN</td>\n",
       "    </tr>\n",
       "    <tr>\n",
       "      <th>939</th>\n",
       "      <td>NaN</td>\n",
       "      <td>NaN</td>\n",
       "    </tr>\n",
       "    <tr>\n",
       "      <th>1025</th>\n",
       "      <td>NaN</td>\n",
       "      <td>NaN</td>\n",
       "    </tr>\n",
       "    <tr>\n",
       "      <th>1244</th>\n",
       "      <td>NaN</td>\n",
       "      <td>NaN</td>\n",
       "    </tr>\n",
       "    <tr>\n",
       "      <th>1306</th>\n",
       "      <td>NaN</td>\n",
       "      <td>NaN</td>\n",
       "    </tr>\n",
       "    <tr>\n",
       "      <th>1430</th>\n",
       "      <td>NaN</td>\n",
       "      <td>NaN</td>\n",
       "    </tr>\n",
       "    <tr>\n",
       "      <th>1434</th>\n",
       "      <td>NaN</td>\n",
       "      <td>NaN</td>\n",
       "    </tr>\n",
       "    <tr>\n",
       "      <th>1606</th>\n",
       "      <td>NaN</td>\n",
       "      <td>NaN</td>\n",
       "    </tr>\n",
       "    <tr>\n",
       "      <th>1699</th>\n",
       "      <td>NaN</td>\n",
       "      <td>NaN</td>\n",
       "    </tr>\n",
       "    <tr>\n",
       "      <th>1815</th>\n",
       "      <td>NaN</td>\n",
       "      <td>NaN</td>\n",
       "    </tr>\n",
       "    <tr>\n",
       "      <th>1820</th>\n",
       "      <td>NaN</td>\n",
       "      <td>NaN</td>\n",
       "    </tr>\n",
       "    <tr>\n",
       "      <th>1941</th>\n",
       "      <td>NaN</td>\n",
       "      <td>NaN</td>\n",
       "    </tr>\n",
       "  </tbody>\n",
       "</table>\n",
       "</div>"
      ],
      "text/plain": [
       "     Mas Vnr Type  Mas Vnr Area\n",
       "22            NaN           NaN\n",
       "41            NaN           NaN\n",
       "86            NaN           NaN\n",
       "212           NaN           NaN\n",
       "276           NaN           NaN\n",
       "338           NaN           NaN\n",
       "431           NaN           NaN\n",
       "451           NaN           NaN\n",
       "591           NaN           NaN\n",
       "844           NaN           NaN\n",
       "913           NaN           NaN\n",
       "939           NaN           NaN\n",
       "1025          NaN           NaN\n",
       "1244          NaN           NaN\n",
       "1306          NaN           NaN\n",
       "1430          NaN           NaN\n",
       "1434          NaN           NaN\n",
       "1606          NaN           NaN\n",
       "1699          NaN           NaN\n",
       "1815          NaN           NaN\n",
       "1820          NaN           NaN\n",
       "1941          NaN           NaN"
      ]
     },
     "execution_count": 14,
     "metadata": {},
     "output_type": "execute_result"
    }
   ],
   "source": [
    "#display the Mas Vnr columns where Mas Vnr Type is NaN\n",
    "ames_df[['Mas Vnr Type', 'Mas Vnr Area']][ames_df['Mas Vnr Type'].isna() == True]"
   ]
  },
  {
   "cell_type": "markdown",
   "id": "b727c5d2-b5df-47ed-ab4e-787acde419ac",
   "metadata": {},
   "source": [
    "For Mas Vnr Type, we might just impute the most common value, which is 'None'. As a sidenote, the data description does mention an extra category 'CBlock', that I don't see in this data. It might be that these are the NaN values, or that they already have been cleaned. \n",
    "\n",
    "For Mas Vnr Area, if I'm saying that if there is no veneer type, the veneer area will logically also be zero for those houses"
   ]
  },
  {
   "cell_type": "code",
   "execution_count": 15,
   "id": "601da012-22ca-4893-bd82-a67d830cb547",
   "metadata": {},
   "outputs": [
    {
     "name": "stdout",
     "output_type": "stream",
     "text": [
      "None       1240\n",
      "BrkFace     630\n",
      "Stone       168\n",
      "BrkCmn       13\n",
      "Name: Mas Vnr Type, dtype: int64\n"
     ]
    }
   ],
   "source": [
    "ames_df['Mas Vnr Type'].fillna('None', inplace=True)\n",
    "print(ames_df['Mas Vnr Type'].value_counts())\n",
    "ames_df['Mas Vnr Area'].fillna(0, inplace=True)"
   ]
  },
  {
   "cell_type": "markdown",
   "id": "e243f5af-ffcd-4347-a0a4-ae79909b9bc4",
   "metadata": {},
   "source": [
    "The next eleven columns with missing numbers all relate to 'Bsmt' (Basement). Just like with the Alley, at least some of these values probably just mean 'there is no basement'. For the first two columns: basement quality and basement height (condition), we will just impute 'NP' ('not present')"
   ]
  },
  {
   "cell_type": "code",
   "execution_count": 16,
   "id": "f6715add-8c2b-482c-9151-fa61a52ad2f7",
   "metadata": {},
   "outputs": [],
   "source": [
    "ames_df['Bsmt Qual'].fillna('NP', inplace=True)\n",
    "ames_df['Bsmt Cond'].fillna('NP', inplace=True)"
   ]
  },
  {
   "cell_type": "code",
   "execution_count": 17,
   "id": "2f29ffb9-2576-4976-825f-ce40b79f6429",
   "metadata": {},
   "outputs": [
    {
     "data": {
      "text/html": [
       "<div>\n",
       "<style scoped>\n",
       "    .dataframe tbody tr th:only-of-type {\n",
       "        vertical-align: middle;\n",
       "    }\n",
       "\n",
       "    .dataframe tbody tr th {\n",
       "        vertical-align: top;\n",
       "    }\n",
       "\n",
       "    .dataframe thead th {\n",
       "        text-align: right;\n",
       "    }\n",
       "</style>\n",
       "<table border=\"1\" class=\"dataframe\">\n",
       "  <thead>\n",
       "    <tr style=\"text-align: right;\">\n",
       "      <th></th>\n",
       "      <th>Bsmt Cond</th>\n",
       "      <th>Bsmt Exposure</th>\n",
       "      <th>BsmtFin Type 1</th>\n",
       "      <th>BsmtFin SF 1</th>\n",
       "      <th>BsmtFin Type 2</th>\n",
       "      <th>BsmtFin SF 2</th>\n",
       "      <th>Bsmt Unf SF</th>\n",
       "      <th>Total Bsmt SF</th>\n",
       "      <th>Heating</th>\n",
       "    </tr>\n",
       "  </thead>\n",
       "  <tbody>\n",
       "    <tr>\n",
       "      <th>12</th>\n",
       "      <td>NP</td>\n",
       "      <td>NaN</td>\n",
       "      <td>NaN</td>\n",
       "      <td>0.0</td>\n",
       "      <td>NaN</td>\n",
       "      <td>0.0</td>\n",
       "      <td>0.0</td>\n",
       "      <td>0.0</td>\n",
       "      <td>GasA</td>\n",
       "    </tr>\n",
       "    <tr>\n",
       "      <th>93</th>\n",
       "      <td>NP</td>\n",
       "      <td>NaN</td>\n",
       "      <td>NaN</td>\n",
       "      <td>0.0</td>\n",
       "      <td>NaN</td>\n",
       "      <td>0.0</td>\n",
       "      <td>0.0</td>\n",
       "      <td>0.0</td>\n",
       "      <td>GasA</td>\n",
       "    </tr>\n",
       "    <tr>\n",
       "      <th>114</th>\n",
       "      <td>NP</td>\n",
       "      <td>NaN</td>\n",
       "      <td>NaN</td>\n",
       "      <td>0.0</td>\n",
       "      <td>NaN</td>\n",
       "      <td>0.0</td>\n",
       "      <td>0.0</td>\n",
       "      <td>0.0</td>\n",
       "      <td>GasA</td>\n",
       "    </tr>\n",
       "    <tr>\n",
       "      <th>146</th>\n",
       "      <td>NP</td>\n",
       "      <td>NaN</td>\n",
       "      <td>NaN</td>\n",
       "      <td>0.0</td>\n",
       "      <td>NaN</td>\n",
       "      <td>0.0</td>\n",
       "      <td>0.0</td>\n",
       "      <td>0.0</td>\n",
       "      <td>GasA</td>\n",
       "    </tr>\n",
       "    <tr>\n",
       "      <th>183</th>\n",
       "      <td>NP</td>\n",
       "      <td>NaN</td>\n",
       "      <td>NaN</td>\n",
       "      <td>0.0</td>\n",
       "      <td>NaN</td>\n",
       "      <td>0.0</td>\n",
       "      <td>0.0</td>\n",
       "      <td>0.0</td>\n",
       "      <td>Wall</td>\n",
       "    </tr>\n",
       "  </tbody>\n",
       "</table>\n",
       "</div>"
      ],
      "text/plain": [
       "    Bsmt Cond Bsmt Exposure BsmtFin Type 1  BsmtFin SF 1 BsmtFin Type 2  \\\n",
       "12         NP           NaN            NaN           0.0            NaN   \n",
       "93         NP           NaN            NaN           0.0            NaN   \n",
       "114        NP           NaN            NaN           0.0            NaN   \n",
       "146        NP           NaN            NaN           0.0            NaN   \n",
       "183        NP           NaN            NaN           0.0            NaN   \n",
       "\n",
       "     BsmtFin SF 2  Bsmt Unf SF  Total Bsmt SF Heating  \n",
       "12            0.0          0.0            0.0    GasA  \n",
       "93            0.0          0.0            0.0    GasA  \n",
       "114           0.0          0.0            0.0    GasA  \n",
       "146           0.0          0.0            0.0    GasA  \n",
       "183           0.0          0.0            0.0    Wall  "
      ]
     },
     "execution_count": 17,
     "metadata": {},
     "output_type": "execute_result"
    }
   ],
   "source": [
    "nb_inds = np.where(ames_df['Bsmt Qual'] == 'NP')[0]\n",
    "ames_df.iloc[nb_inds, 31:40].head()"
   ]
  },
  {
   "cell_type": "markdown",
   "id": "cf5f38a1-9e62-4afe-8f0f-0141ee8a3d64",
   "metadata": {},
   "source": [
    "There are 3 other Basement columns that had as much or more NaNs as the above two columns: 'Bsmt Exposure', 'BsmtFin Type 1' and 'BsmtFin Type 2'. Most of those rows are probably NaN for the same reason"
   ]
  },
  {
   "cell_type": "code",
   "execution_count": 18,
   "id": "1efa24c4-4684-4123-92d8-0b956ddd4777",
   "metadata": {},
   "outputs": [],
   "source": [
    "#Find where I just set Bsmt Qual to 'NB', and set the same category for these 3 basement variables\n",
    "nb_inds = ames_df[ames_df['Bsmt Qual'] == 'NP'].index\n",
    "ames_df.loc[nb_inds, ['Bsmt Exposure', 'BsmtFin Type 1', 'BsmtFin Type 2']] = 'NP'"
   ]
  },
  {
   "cell_type": "code",
   "execution_count": 19,
   "id": "f9c1d95f-60dd-4f81-a847-eb3e2626e347",
   "metadata": {},
   "outputs": [
    {
     "data": {
      "text/plain": [
       "Bsmt Qual         0\n",
       "Bsmt Cond         0\n",
       "Bsmt Exposure     3\n",
       "BsmtFin Type 1    0\n",
       "BsmtFin SF 1      1\n",
       "BsmtFin Type 2    1\n",
       "BsmtFin SF 2      1\n",
       "Bsmt Unf SF       1\n",
       "Total Bsmt SF     1\n",
       "Bsmt Full Bath    2\n",
       "Bsmt Half Bath    2\n",
       "dtype: int64"
      ]
     },
     "execution_count": 19,
     "metadata": {},
     "output_type": "execute_result"
    }
   ],
   "source": [
    "#how many NaNs are left for the basement columns?\n",
    "bsmt_cols = [col for col in ames_df.columns if 'Bsmt' in col]\n",
    "ames_df[bsmt_cols].isna().sum()"
   ]
  },
  {
   "cell_type": "code",
   "execution_count": 20,
   "id": "59dad055-4508-4c3a-b32e-fafcd76d9ca8",
   "metadata": {},
   "outputs": [
    {
     "data": {
      "text/html": [
       "<div>\n",
       "<style scoped>\n",
       "    .dataframe tbody tr th:only-of-type {\n",
       "        vertical-align: middle;\n",
       "    }\n",
       "\n",
       "    .dataframe tbody tr th {\n",
       "        vertical-align: top;\n",
       "    }\n",
       "\n",
       "    .dataframe thead th {\n",
       "        text-align: right;\n",
       "    }\n",
       "</style>\n",
       "<table border=\"1\" class=\"dataframe\">\n",
       "  <thead>\n",
       "    <tr style=\"text-align: right;\">\n",
       "      <th></th>\n",
       "      <th>Bsmt Qual</th>\n",
       "      <th>Bsmt Cond</th>\n",
       "      <th>Bsmt Exposure</th>\n",
       "      <th>BsmtFin Type 1</th>\n",
       "      <th>BsmtFin SF 1</th>\n",
       "      <th>BsmtFin Type 2</th>\n",
       "      <th>BsmtFin SF 2</th>\n",
       "      <th>Bsmt Unf SF</th>\n",
       "      <th>Total Bsmt SF</th>\n",
       "      <th>Bsmt Full Bath</th>\n",
       "      <th>Bsmt Half Bath</th>\n",
       "    </tr>\n",
       "  </thead>\n",
       "  <tbody>\n",
       "    <tr>\n",
       "      <th>1456</th>\n",
       "      <td>Gd</td>\n",
       "      <td>TA</td>\n",
       "      <td>NaN</td>\n",
       "      <td>Unf</td>\n",
       "      <td>0.0</td>\n",
       "      <td>Unf</td>\n",
       "      <td>0.0</td>\n",
       "      <td>725.0</td>\n",
       "      <td>725.0</td>\n",
       "      <td>0.0</td>\n",
       "      <td>0.0</td>\n",
       "    </tr>\n",
       "    <tr>\n",
       "      <th>1547</th>\n",
       "      <td>Gd</td>\n",
       "      <td>TA</td>\n",
       "      <td>NaN</td>\n",
       "      <td>Unf</td>\n",
       "      <td>0.0</td>\n",
       "      <td>Unf</td>\n",
       "      <td>0.0</td>\n",
       "      <td>1595.0</td>\n",
       "      <td>1595.0</td>\n",
       "      <td>0.0</td>\n",
       "      <td>0.0</td>\n",
       "    </tr>\n",
       "    <tr>\n",
       "      <th>1997</th>\n",
       "      <td>Gd</td>\n",
       "      <td>TA</td>\n",
       "      <td>NaN</td>\n",
       "      <td>Unf</td>\n",
       "      <td>0.0</td>\n",
       "      <td>Unf</td>\n",
       "      <td>0.0</td>\n",
       "      <td>936.0</td>\n",
       "      <td>936.0</td>\n",
       "      <td>0.0</td>\n",
       "      <td>0.0</td>\n",
       "    </tr>\n",
       "  </tbody>\n",
       "</table>\n",
       "</div>"
      ],
      "text/plain": [
       "     Bsmt Qual Bsmt Cond Bsmt Exposure BsmtFin Type 1  BsmtFin SF 1  \\\n",
       "1456        Gd        TA           NaN            Unf           0.0   \n",
       "1547        Gd        TA           NaN            Unf           0.0   \n",
       "1997        Gd        TA           NaN            Unf           0.0   \n",
       "\n",
       "     BsmtFin Type 2  BsmtFin SF 2  Bsmt Unf SF  Total Bsmt SF  Bsmt Full Bath  \\\n",
       "1456            Unf           0.0        725.0          725.0             0.0   \n",
       "1547            Unf           0.0       1595.0         1595.0             0.0   \n",
       "1997            Unf           0.0        936.0          936.0             0.0   \n",
       "\n",
       "      Bsmt Half Bath  \n",
       "1456             0.0  \n",
       "1547             0.0  \n",
       "1997             0.0  "
      ]
     },
     "execution_count": 20,
     "metadata": {},
     "output_type": "execute_result"
    }
   ],
   "source": [
    "ames_df[ames_df['Bsmt Exposure'].isna() == True][bsmt_cols]"
   ]
  },
  {
   "cell_type": "code",
   "execution_count": 21,
   "id": "1fb89645-b6b8-4ddd-8c11-e4b39e49af49",
   "metadata": {},
   "outputs": [],
   "source": [
    "#Impute the most common value, which is 'No'\n",
    "nds = ames_df[ames_df['Bsmt Exposure'].isna() == True].index\n",
    "ames_df.at[nds, 'Bsmt Exposure'] = 'No'"
   ]
  },
  {
   "cell_type": "code",
   "execution_count": 22,
   "id": "77ba6b60-18e0-4994-a853-1d045a3b19a3",
   "metadata": {},
   "outputs": [
    {
     "data": {
      "text/html": [
       "<div>\n",
       "<style scoped>\n",
       "    .dataframe tbody tr th:only-of-type {\n",
       "        vertical-align: middle;\n",
       "    }\n",
       "\n",
       "    .dataframe tbody tr th {\n",
       "        vertical-align: top;\n",
       "    }\n",
       "\n",
       "    .dataframe thead th {\n",
       "        text-align: right;\n",
       "    }\n",
       "</style>\n",
       "<table border=\"1\" class=\"dataframe\">\n",
       "  <thead>\n",
       "    <tr style=\"text-align: right;\">\n",
       "      <th></th>\n",
       "      <th>Bsmt Qual</th>\n",
       "      <th>Bsmt Cond</th>\n",
       "      <th>Bsmt Exposure</th>\n",
       "      <th>BsmtFin Type 1</th>\n",
       "      <th>BsmtFin SF 1</th>\n",
       "      <th>BsmtFin Type 2</th>\n",
       "      <th>BsmtFin SF 2</th>\n",
       "      <th>Bsmt Unf SF</th>\n",
       "      <th>Total Bsmt SF</th>\n",
       "      <th>Bsmt Full Bath</th>\n",
       "      <th>Bsmt Half Bath</th>\n",
       "    </tr>\n",
       "  </thead>\n",
       "  <tbody>\n",
       "    <tr>\n",
       "      <th>1327</th>\n",
       "      <td>NP</td>\n",
       "      <td>NP</td>\n",
       "      <td>NP</td>\n",
       "      <td>NP</td>\n",
       "      <td>NaN</td>\n",
       "      <td>NP</td>\n",
       "      <td>NaN</td>\n",
       "      <td>NaN</td>\n",
       "      <td>NaN</td>\n",
       "      <td>NaN</td>\n",
       "      <td>NaN</td>\n",
       "    </tr>\n",
       "  </tbody>\n",
       "</table>\n",
       "</div>"
      ],
      "text/plain": [
       "     Bsmt Qual Bsmt Cond Bsmt Exposure BsmtFin Type 1  BsmtFin SF 1  \\\n",
       "1327        NP        NP            NP             NP           NaN   \n",
       "\n",
       "     BsmtFin Type 2  BsmtFin SF 2  Bsmt Unf SF  Total Bsmt SF  Bsmt Full Bath  \\\n",
       "1327             NP           NaN          NaN            NaN             NaN   \n",
       "\n",
       "      Bsmt Half Bath  \n",
       "1327             NaN  "
      ]
     },
     "execution_count": 22,
     "metadata": {},
     "output_type": "execute_result"
    }
   ],
   "source": [
    "ames_df[ames_df['BsmtFin SF 1'].isna() == True][bsmt_cols]"
   ]
  },
  {
   "cell_type": "markdown",
   "id": "dab7853f-c13d-4e5d-94ab-432a73b6a26b",
   "metadata": {},
   "source": [
    "'SF' are square footage variables, so we can simply impute zero, as is the case for the other rows with no basement"
   ]
  },
  {
   "cell_type": "code",
   "execution_count": 23,
   "id": "f3b3462b-e7f3-45bc-817f-39f5fc487946",
   "metadata": {},
   "outputs": [],
   "source": [
    "nds = ames_df[ames_df['BsmtFin SF 1'].isna() == True].index\n",
    "ames_df.at[nds, ['BsmtFin SF 1', 'BsmtFin SF 2', 'Bsmt Unf SF', 'Total Bsmt SF']] = 0"
   ]
  },
  {
   "cell_type": "code",
   "execution_count": 24,
   "id": "382999b6-3d3f-45d1-8701-faedc92ffed0",
   "metadata": {},
   "outputs": [
    {
     "data": {
      "text/html": [
       "<div>\n",
       "<style scoped>\n",
       "    .dataframe tbody tr th:only-of-type {\n",
       "        vertical-align: middle;\n",
       "    }\n",
       "\n",
       "    .dataframe tbody tr th {\n",
       "        vertical-align: top;\n",
       "    }\n",
       "\n",
       "    .dataframe thead th {\n",
       "        text-align: right;\n",
       "    }\n",
       "</style>\n",
       "<table border=\"1\" class=\"dataframe\">\n",
       "  <thead>\n",
       "    <tr style=\"text-align: right;\">\n",
       "      <th></th>\n",
       "      <th>Bsmt Qual</th>\n",
       "      <th>Bsmt Cond</th>\n",
       "      <th>Bsmt Exposure</th>\n",
       "      <th>BsmtFin Type 1</th>\n",
       "      <th>BsmtFin SF 1</th>\n",
       "      <th>BsmtFin Type 2</th>\n",
       "      <th>BsmtFin SF 2</th>\n",
       "      <th>Bsmt Unf SF</th>\n",
       "      <th>Total Bsmt SF</th>\n",
       "      <th>Bsmt Full Bath</th>\n",
       "      <th>Bsmt Half Bath</th>\n",
       "    </tr>\n",
       "  </thead>\n",
       "  <tbody>\n",
       "    <tr>\n",
       "      <th>1147</th>\n",
       "      <td>Gd</td>\n",
       "      <td>TA</td>\n",
       "      <td>No</td>\n",
       "      <td>GLQ</td>\n",
       "      <td>1124.0</td>\n",
       "      <td>NaN</td>\n",
       "      <td>479.0</td>\n",
       "      <td>1603.0</td>\n",
       "      <td>3206.0</td>\n",
       "      <td>1.0</td>\n",
       "      <td>0.0</td>\n",
       "    </tr>\n",
       "  </tbody>\n",
       "</table>\n",
       "</div>"
      ],
      "text/plain": [
       "     Bsmt Qual Bsmt Cond Bsmt Exposure BsmtFin Type 1  BsmtFin SF 1  \\\n",
       "1147        Gd        TA            No            GLQ        1124.0   \n",
       "\n",
       "     BsmtFin Type 2  BsmtFin SF 2  Bsmt Unf SF  Total Bsmt SF  Bsmt Full Bath  \\\n",
       "1147            NaN         479.0       1603.0         3206.0             1.0   \n",
       "\n",
       "      Bsmt Half Bath  \n",
       "1147             0.0  "
      ]
     },
     "execution_count": 24,
     "metadata": {},
     "output_type": "execute_result"
    }
   ],
   "source": [
    "ames_df[ames_df['BsmtFin Type 2'].isna() == True][bsmt_cols]"
   ]
  },
  {
   "cell_type": "markdown",
   "id": "b6194f8e-20da-41de-a328-3a9c844253e8",
   "metadata": {},
   "source": [
    "I will just impute the most common value here, which is 'Unfinished'"
   ]
  },
  {
   "cell_type": "code",
   "execution_count": 25,
   "id": "023ab9d3-8f92-4bb1-bf1b-106d0742080f",
   "metadata": {},
   "outputs": [],
   "source": [
    "ames_df.at[ames_df['BsmtFin Type 2'].isna() == True, 'BsmtFin Type 2'] = 'Unf'"
   ]
  },
  {
   "cell_type": "markdown",
   "id": "efea0089-4471-474f-b15b-9cfb63487715",
   "metadata": {},
   "source": [
    "For the final basement-related cols, Full and Half bath, I will just impute the median"
   ]
  },
  {
   "cell_type": "code",
   "execution_count": 26,
   "id": "d13f1488-d03d-4f9c-a2c9-b8a11544d8f1",
   "metadata": {},
   "outputs": [],
   "source": [
    "ames_df['Bsmt Full Bath'].fillna(ames_df['Bsmt Full Bath'].median(), inplace=True)\n",
    "ames_df['Bsmt Half Bath'].fillna(ames_df['Bsmt Half Bath'].median(), inplace=True)"
   ]
  },
  {
   "cell_type": "markdown",
   "id": "a3e6ffd6-9e83-4353-9dfd-2d1e88e93939",
   "metadata": {},
   "source": [
    "Making progress! What's left?"
   ]
  },
  {
   "cell_type": "code",
   "execution_count": 27,
   "id": "43996be0-f7ac-46ae-8e21-06439057cf8b",
   "metadata": {},
   "outputs": [
    {
     "data": {
      "text/plain": [
       "{'Garage Type': 113,\n",
       " 'Garage Yr Blt': 114,\n",
       " 'Garage Finish': 114,\n",
       " 'Garage Cars': 1,\n",
       " 'Garage Area': 1,\n",
       " 'Garage Qual': 114,\n",
       " 'Garage Cond': 114}"
      ]
     },
     "execution_count": 27,
     "metadata": {},
     "output_type": "execute_result"
    }
   ],
   "source": [
    "{k:v for k,v in zip(ames_df.isna().sum().index, ames_df.isna().sum().values) if v > 0}"
   ]
  },
  {
   "cell_type": "markdown",
   "id": "d8ce85ba-d99d-4e0d-af22-e3ded70f1226",
   "metadata": {},
   "source": [
    "Similar to the Basement columns, I can assume that NaN values for Qual, Cond, Type, Built and Finish all just mean there is no garage to begin with. If NaN values for Cars and Areas are in the same rows, I can just them to zero."
   ]
  },
  {
   "cell_type": "code",
   "execution_count": 28,
   "id": "505ceb82-fc66-497f-8a61-3ad65b289fa1",
   "metadata": {},
   "outputs": [
    {
     "data": {
      "text/plain": [
       "{'Garage Yr Blt': 1,\n",
       " 'Garage Finish': 1,\n",
       " 'Garage Cars': 1,\n",
       " 'Garage Area': 1,\n",
       " 'Garage Qual': 1,\n",
       " 'Garage Cond': 1}"
      ]
     },
     "execution_count": 28,
     "metadata": {},
     "output_type": "execute_result"
    }
   ],
   "source": [
    "ames_df['Garage Type'].fillna('NP', inplace=True)\n",
    "gar_inds = ames_df[ames_df['Garage Type'] == 'NP'].index\n",
    "ames_df.loc[gar_inds, ['Garage Finish', 'Garage Qual', 'Garage Cond']] = 'NP'\n",
    "ames_df.loc[gar_inds, ['Garage Yr Blt']] = 0 \n",
    "\n",
    "{k:v for k,v in zip(ames_df.isna().sum().index, ames_df.isna().sum().values) if v > 0}"
   ]
  },
  {
   "cell_type": "markdown",
   "id": "efa9be27-193c-4c83-9d9a-9f6173869571",
   "metadata": {},
   "source": [
    "There seems to be one row where the Garage Type is determined, but nothing else. Annoying.."
   ]
  },
  {
   "cell_type": "code",
   "execution_count": 29,
   "id": "9009fffd-ee83-451d-a595-bfb8829fce30",
   "metadata": {},
   "outputs": [
    {
     "data": {
      "text/html": [
       "<div>\n",
       "<style scoped>\n",
       "    .dataframe tbody tr th:only-of-type {\n",
       "        vertical-align: middle;\n",
       "    }\n",
       "\n",
       "    .dataframe tbody tr th {\n",
       "        vertical-align: top;\n",
       "    }\n",
       "\n",
       "    .dataframe thead th {\n",
       "        text-align: right;\n",
       "    }\n",
       "</style>\n",
       "<table border=\"1\" class=\"dataframe\">\n",
       "  <thead>\n",
       "    <tr style=\"text-align: right;\">\n",
       "      <th></th>\n",
       "      <th>Garage Type</th>\n",
       "      <th>Garage Yr Blt</th>\n",
       "      <th>Garage Finish</th>\n",
       "      <th>Garage Cars</th>\n",
       "      <th>Garage Area</th>\n",
       "      <th>Garage Qual</th>\n",
       "      <th>Garage Cond</th>\n",
       "    </tr>\n",
       "  </thead>\n",
       "  <tbody>\n",
       "    <tr>\n",
       "      <th>1712</th>\n",
       "      <td>Detchd</td>\n",
       "      <td>NaN</td>\n",
       "      <td>NaN</td>\n",
       "      <td>NaN</td>\n",
       "      <td>NaN</td>\n",
       "      <td>NaN</td>\n",
       "      <td>NaN</td>\n",
       "    </tr>\n",
       "  </tbody>\n",
       "</table>\n",
       "</div>"
      ],
      "text/plain": [
       "     Garage Type  Garage Yr Blt Garage Finish  Garage Cars  Garage Area  \\\n",
       "1712      Detchd            NaN           NaN          NaN          NaN   \n",
       "\n",
       "     Garage Qual Garage Cond  \n",
       "1712         NaN         NaN  "
      ]
     },
     "execution_count": 29,
     "metadata": {},
     "output_type": "execute_result"
    }
   ],
   "source": [
    "gar_cols = [col for col in ames_df.columns if 'Garage' in col]\n",
    "ames_df[(ames_df['Garage Qual'].isna() == True)][gar_cols]"
   ]
  },
  {
   "cell_type": "markdown",
   "id": "2e93e0b9-d8cb-47c0-81bc-3f48b2fadf03",
   "metadata": {},
   "source": [
    "I will use modes (for categorical columns) and medians (for numerical ones) to fill out this final row"
   ]
  },
  {
   "cell_type": "code",
   "execution_count": 30,
   "id": "e1a4af9c-bb71-4499-9b41-2b17ceb21cd4",
   "metadata": {},
   "outputs": [],
   "source": [
    "ind = ames_df[(ames_df['Garage Qual'].isna() == True)].index\n",
    "ames_df.loc[ind, 'Garage Yr Blt'] = ames_df['Garage Yr Blt'].median()\n",
    "ames_df.loc[ind, 'Garage Cars'] = ames_df['Garage Cars'].median()\n",
    "ames_df.loc[ind, 'Garage Area'] = ames_df['Garage Area'].median()\n",
    "ames_df.loc[ind, 'Garage Finish'] = ames_df['Garage Finish'].mode()[0]\n",
    "ames_df.loc[ind, 'Garage Qual'] = ames_df['Garage Qual'].mode()[0]\n",
    "ames_df.loc[ind, 'Garage Cond'] = ames_df['Garage Cond'].mode()[0]"
   ]
  },
  {
   "cell_type": "code",
   "execution_count": 31,
   "id": "832962ba-c370-454c-8646-16dbbf63cf4f",
   "metadata": {},
   "outputs": [
    {
     "data": {
      "text/plain": [
       "{}"
      ]
     },
     "execution_count": 31,
     "metadata": {},
     "output_type": "execute_result"
    }
   ],
   "source": [
    "{k:v for k,v in zip(ames_df.isna().sum().index, ames_df.isna().sum().values) if v > 0}"
   ]
  },
  {
   "cell_type": "markdown",
   "id": "05bbcaae-0a9d-4a8b-8f19-f3b25c25264e",
   "metadata": {},
   "source": [
    "Now let's look at datatypes. Since there are a lot of columns, go through it by datatype"
   ]
  },
  {
   "cell_type": "code",
   "execution_count": 32,
   "id": "9e0b1818-c197-4bf7-96a9-58c9fe124d1f",
   "metadata": {},
   "outputs": [
    {
     "name": "stdout",
     "output_type": "stream",
     "text": [
      "Id\n",
      "MS SubClass\n",
      "Lot Area\n",
      "Overall Qual\n",
      "Overall Cond\n",
      "Year Built\n",
      "Year Remod/Add\n",
      "1st Flr SF\n",
      "2nd Flr SF\n",
      "Low Qual Fin SF\n",
      "Gr Liv Area\n",
      "Full Bath\n",
      "Half Bath\n",
      "Bedroom AbvGr\n",
      "Kitchen AbvGr\n",
      "TotRms AbvGrd\n",
      "Fireplaces\n",
      "Wood Deck SF\n",
      "Open Porch SF\n",
      "Enclosed Porch\n",
      "3Ssn Porch\n",
      "Screen Porch\n",
      "Pool Area\n",
      "Misc Val\n",
      "Mo Sold\n",
      "Yr Sold\n",
      "SalePrice\n"
     ]
    }
   ],
   "source": [
    "for col in ames_df.columns:\n",
    "    if ames_df[col].dtype == 'int64':\n",
    "        print(col)"
   ]
  },
  {
   "cell_type": "markdown",
   "id": "4e95e0f6-7466-46b3-9a67-83ed396fbf09",
   "metadata": {},
   "source": [
    "MS SubClass should probably be object type, since it's categorical."
   ]
  },
  {
   "cell_type": "code",
   "execution_count": 33,
   "id": "e9c333ae-6699-43ca-8684-be244a10cb21",
   "metadata": {},
   "outputs": [],
   "source": [
    "ames_df['MS SubClass'] = ames_df['MS SubClass'].astype('object')"
   ]
  },
  {
   "cell_type": "code",
   "execution_count": 34,
   "id": "4a65ffd3-fffa-4c31-8d84-56b07dbb032b",
   "metadata": {},
   "outputs": [
    {
     "name": "stdout",
     "output_type": "stream",
     "text": [
      "Lot Frontage\n",
      "Mas Vnr Area\n",
      "BsmtFin SF 1\n",
      "BsmtFin SF 2\n",
      "Bsmt Unf SF\n",
      "Total Bsmt SF\n",
      "Bsmt Full Bath\n",
      "Bsmt Half Bath\n",
      "Garage Yr Blt\n",
      "Garage Cars\n",
      "Garage Area\n"
     ]
    }
   ],
   "source": [
    "for col in ames_df.columns:\n",
    "    if ames_df[col].dtype == 'float64':\n",
    "        print(col)"
   ]
  },
  {
   "cell_type": "markdown",
   "id": "789a333c-77d5-47ab-bfd2-4e7b1245bcbc",
   "metadata": {},
   "source": [
    "I'll change the countable variables (Full Bath, Half Bath, and Cars) to integers. Year could be both float or int, but that's not really gonna make a big difference."
   ]
  },
  {
   "cell_type": "code",
   "execution_count": 35,
   "id": "7680bce4-7156-483b-9b82-70e57538173c",
   "metadata": {},
   "outputs": [],
   "source": [
    "cols_to_change = ['Bsmt Full Bath', 'Bsmt Half Bath', 'Garage Cars']\n",
    "for col in cols_to_change:\n",
    "    ames_df[col] = ames_df[col].astype('int64')"
   ]
  },
  {
   "cell_type": "markdown",
   "id": "650d6a96-638f-4e56-ae51-b02093892f4c",
   "metadata": {},
   "source": [
    "Finally, object types:"
   ]
  },
  {
   "cell_type": "code",
   "execution_count": 36,
   "id": "a1cb2900-842e-4886-b37a-de96a9f64aca",
   "metadata": {},
   "outputs": [
    {
     "name": "stdout",
     "output_type": "stream",
     "text": [
      "MS SubClass\n",
      "MS Zoning\n",
      "Street\n",
      "Alley\n",
      "Lot Shape\n",
      "Land Contour\n",
      "Utilities\n",
      "Lot Config\n",
      "Land Slope\n",
      "Neighborhood\n",
      "Condition 1\n",
      "Condition 2\n",
      "Bldg Type\n",
      "House Style\n",
      "Roof Style\n",
      "Roof Matl\n",
      "Exterior 1st\n",
      "Exterior 2nd\n",
      "Mas Vnr Type\n",
      "Exter Qual\n",
      "Exter Cond\n",
      "Foundation\n",
      "Bsmt Qual\n",
      "Bsmt Cond\n",
      "Bsmt Exposure\n",
      "BsmtFin Type 1\n",
      "BsmtFin Type 2\n",
      "Heating\n",
      "Heating QC\n",
      "Central Air\n",
      "Electrical\n",
      "Kitchen Qual\n",
      "Functional\n",
      "Fireplace Qu\n",
      "Garage Type\n",
      "Garage Finish\n",
      "Garage Qual\n",
      "Garage Cond\n",
      "Paved Drive\n",
      "Pool QC\n",
      "Fence\n",
      "Misc Feature\n",
      "Sale Type\n"
     ]
    }
   ],
   "source": [
    "for col in ames_df.columns:\n",
    "    if ames_df[col].dtype == 'object':\n",
    "        print(col)"
   ]
  },
  {
   "cell_type": "markdown",
   "id": "caa69d1a-f748-43a9-b3f6-47c961ae7d2b",
   "metadata": {},
   "source": [
    "That looks right, as far as I can tell.\n",
    "\n",
    "Now finally, let's write a function to automate this process:"
   ]
  },
  {
   "cell_type": "code",
   "execution_count": 37,
   "id": "27db43b0-e78c-45c2-83c6-8ca1fe2bf01c",
   "metadata": {},
   "outputs": [],
   "source": [
    "def clean_ames(df):\n",
    "    \"\"\"\n",
    "    Function to clean the ames dataset, for either the input training or testing data. \n",
    "    More information and justification about each of the steps can be found in the above notebook\n",
    "    \"\"\"\n",
    "    #Drop Id and PID columns\n",
    "    df = df.drop(columns=['PID'])\n",
    "    \n",
    "    #all features where we can simple replace NaNs by 'NP' (Not Present)\n",
    "    NA_features = ['Alley', 'Garage Type', 'Fireplace Qu', 'Pool QC', 'Fence', 'Misc Feature', 'Bsmt Qual', 'Bsmt Cond']\n",
    "    for feature in NA_features:\n",
    "        df[feature].fillna('NP', inplace=True)\n",
    "    \n",
    "    #for lot frontage, impute square root of lot area minus some constant, which is the mean of sqrt(area) - frontage for all the houses that do have both\n",
    "    area_lf = df.loc[df['Lot Frontage'].isna() == False, 'Lot Area']\n",
    "    lotfrontage = df.loc[df['Lot Frontage'].isna() == False, 'Lot Frontage']\n",
    "\n",
    "    #what's the average difference between the square root of the area and the lot frontage?\n",
    "    diff = np.mean(np.sqrt(area_lf) - lotfrontage)\n",
    "\n",
    "    lf_inds = df[df['Lot Frontage'].isna() == True].index\n",
    "    fill_vals =  np.sqrt(df.loc[lf_inds,'Lot Area']) - diff\n",
    "    df['Lot Frontage'].fillna(fill_vals, inplace=True)\n",
    "    \n",
    "    #for Mas Vnr Type and Area, impute the mode and median respectively (likely to be None, and zero)\n",
    "    df['Mas Vnr Type'].fillna(df['Mas Vnr Type'].mode()[0], inplace=True)\n",
    "    df['Mas Vnr Area'].fillna(df['Mas Vnr Area'].median(), inplace=True)\n",
    "\n",
    "    \n",
    "    #For Bsmt Exposure, Type 1 and Type 2, put NP in the same rows as Bsmt Qual and Cond\n",
    "    nb_inds = df[df['Bsmt Qual'] == 'NP'].index\n",
    "    df.loc[nb_inds, ['Bsmt Exposure', 'BsmtFin Type 1', 'BsmtFin Type 2']] = 'NP'\n",
    "    \n",
    "    #In those same rows, impute zero in square footage columns for the basement\n",
    "    df.loc[nb_inds, ['BsmtFin SF 1', 'BsmtFin SF 2', 'Bsmt Unf SF', 'Total Bsmt SF']] = 0\n",
    "    \n",
    "    #For Garage Finish, Garage Qual, and Garage Cond, put NP in the same rows as Garage Type\n",
    "    gar_inds = df[df['Garage Type'] == 'NP'].index\n",
    "    df.loc[gar_inds, ['Garage Finish', 'Garage Qual', 'Garage Cond']] = 'NP'\n",
    "    \n",
    "    #Also just put zero for the garage yr built for those same rows\n",
    "    df.loc[gar_inds, 'Garage Yr Blt'] =  0\n",
    "\n",
    "    \"\"\"\n",
    "    for whatever missing values are left, impute the mode if categorical, the median if numerical\n",
    "    print out some info to make it clear what's going on here\n",
    "    at this point there should only be a handful of rows left with missing values\n",
    "    \"\"\"\n",
    "    print('Imputing Modes and Medians for these remaining columns:')\n",
    "    missing_cols = [x for x,v in zip(df.isna().sum().index, df.isna().sum().values) if v > 0]\n",
    "    for col in missing_cols:\n",
    "        ind = df[df[col].isna() == True].index\n",
    "        if df[col].dtype == 'object':\n",
    "            col_mode = df[col].mode()[0]\n",
    "            print('Imputing mode:', col_mode, 'in', len(ind), 'rows of column:', col)\n",
    "            df.loc[ind, col] = col_mode\n",
    "        else:\n",
    "            col_median = df[col].median()\n",
    "            print('Imputing median:', col_median, 'in', len(ind), 'rows of column:', col)\n",
    "            df.loc[ind,col] = col_median\n",
    "    \n",
    "    #finally, change a few dtypes\n",
    "    #these countable ones from float to integers\n",
    "    cols_to_change = ['Bsmt Full Bath', 'Bsmt Half Bath', 'Garage Cars']\n",
    "    for col in cols_to_change:\n",
    "        df[col] = df[col].astype('int64')\n",
    "    \n",
    "    #and subclass to object (since it's categorical)\n",
    "    df['MS SubClass'] = df['MS SubClass'].astype(str)\n",
    "    #add leading zero for entries with only 2 chars\n",
    "    df['MS SubClass'] = df['MS SubClass'].map(lambda code: '0' + code if len(code) == 2 else code)\n",
    "    \n",
    "    #apparently pandas doesnt like it when you return the same df you entered, so making a copy\n",
    "    return df.copy()"
   ]
  },
  {
   "cell_type": "markdown",
   "id": "cdabe681-6b27-414e-bf40-7beec3d99656",
   "metadata": {},
   "source": [
    "We have everything in one function now! We can clean the test and training data in the same way with this function, just to be sure that they are treated the same way"
   ]
  },
  {
   "cell_type": "code",
   "execution_count": 38,
   "id": "07f5540b-779b-4cc4-97c9-509d57e5b082",
   "metadata": {},
   "outputs": [
    {
     "name": "stdout",
     "output_type": "stream",
     "text": [
      "Imputing Modes and Medians for these remaining columns:\n",
      "Imputing mode: No in 3 rows of column: Bsmt Exposure\n",
      "Imputing mode: Unf in 1 rows of column: BsmtFin Type 2\n",
      "Imputing median: 0.0 in 2 rows of column: Bsmt Full Bath\n",
      "Imputing median: 0.0 in 2 rows of column: Bsmt Half Bath\n",
      "Imputing median: 1978.0 in 1 rows of column: Garage Yr Blt\n",
      "Imputing mode: Unf in 1 rows of column: Garage Finish\n",
      "Imputing median: 2.0 in 1 rows of column: Garage Cars\n",
      "Imputing median: 480.0 in 1 rows of column: Garage Area\n",
      "Imputing mode: TA in 1 rows of column: Garage Qual\n",
      "Imputing mode: TA in 1 rows of column: Garage Cond\n"
     ]
    },
    {
     "data": {
      "text/plain": [
       "0"
      ]
     },
     "execution_count": 38,
     "metadata": {},
     "output_type": "execute_result"
    }
   ],
   "source": [
    "df_train = pd.read_csv('../datasets/train.csv')\n",
    "df_train_cl = clean_ames(df_train)\n",
    "df_train_cl.isna().sum().sum()"
   ]
  },
  {
   "cell_type": "code",
   "execution_count": 39,
   "id": "e948a233-0cc7-45cc-9ed1-3da999188532",
   "metadata": {},
   "outputs": [
    {
     "data": {
      "text/plain": [
       "NP      1911\n",
       "Grvl      85\n",
       "Pave      55\n",
       "Name: Alley, dtype: int64"
      ]
     },
     "execution_count": 39,
     "metadata": {},
     "output_type": "execute_result"
    }
   ],
   "source": [
    "df_train_cl['Alley'].value_counts()"
   ]
  },
  {
   "cell_type": "code",
   "execution_count": 40,
   "id": "217d08db-ec6d-4b12-8c89-9ca5823eabd0",
   "metadata": {},
   "outputs": [],
   "source": [
    "df_train_cl.to_csv('../datasets/train_cleaned.csv', index=False)"
   ]
  },
  {
   "cell_type": "code",
   "execution_count": 41,
   "id": "64267e82-6f65-4a4c-a603-53fcec0aceff",
   "metadata": {},
   "outputs": [
    {
     "name": "stdout",
     "output_type": "stream",
     "text": [
      "Imputing Modes and Medians for these remaining columns:\n",
      "Imputing mode: SBrkr in 1 rows of column: Electrical\n",
      "Imputing median: 1977.0 in 1 rows of column: Garage Yr Blt\n",
      "Imputing mode: Unf in 1 rows of column: Garage Finish\n",
      "Imputing mode: TA in 1 rows of column: Garage Qual\n",
      "Imputing mode: TA in 1 rows of column: Garage Cond\n"
     ]
    },
    {
     "data": {
      "text/plain": [
       "0"
      ]
     },
     "execution_count": 41,
     "metadata": {},
     "output_type": "execute_result"
    }
   ],
   "source": [
    "df_test = pd.read_csv('../datasets/test.csv')\n",
    "df_test_cl = clean_ames(df_test)\n",
    "df_test_cl.isna().sum().sum()"
   ]
  },
  {
   "cell_type": "code",
   "execution_count": 42,
   "id": "bf8f9c73-1dac-45f9-affc-95719e41dc49",
   "metadata": {},
   "outputs": [],
   "source": [
    "df_test_cl.to_csv('../datasets/test_cleaned.csv', index=False)"
   ]
  },
  {
   "cell_type": "markdown",
   "id": "3c5f463e-6429-4e6a-9744-62a3499be744",
   "metadata": {},
   "source": [
    "We can see that once I account for the 'Not Present' features and related features, and do the imputation for lot frontage, there aren't a whole lot of missing values left. Therefore, I don't think these imputations are going to affect the data quality very much."
   ]
  }
 ],
 "metadata": {
  "kernelspec": {
   "display_name": "Python 3",
   "language": "python",
   "name": "python3"
  },
  "language_info": {
   "codemirror_mode": {
    "name": "ipython",
    "version": 3
   },
   "file_extension": ".py",
   "mimetype": "text/x-python",
   "name": "python",
   "nbconvert_exporter": "python",
   "pygments_lexer": "ipython3",
   "version": "3.8.8"
  }
 },
 "nbformat": 4,
 "nbformat_minor": 5
}
